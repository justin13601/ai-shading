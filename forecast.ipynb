{
  "cells": [
    {
      "cell_type": "markdown",
      "source": [
        "Solcast JSON -> CSV"
      ],
      "metadata": {
        "id": "xJJYmR8CwSX3"
      }
    },
    {
      "cell_type": "code",
      "source": [
        "import ast\n",
        "\n",
        "def read_txt_as_dict(file_path):\n",
        "    with open(file_path, 'r') as file:\n",
        "        content = file.read()\n",
        "        dictionary = ast.literal_eval(content)\n",
        "        return dictionary\n",
        "\n",
        "# Example usage\n",
        "file_path = 'weatherforecast (1).txt'  # Replace with the path to your text file\n",
        "data_dict = read_txt_as_dict(file_path)\n",
        "print(data_dict)"
      ],
      "metadata": {
        "colab": {
          "base_uri": "https://localhost:8080/"
        },
        "id": "k0WO0s5Yuh0Q",
        "outputId": "27794e05-e9bc-4c25-e59f-a7caeabba6f4"
      },
      "execution_count": null,
      "outputs": [
        {
          "output_type": "stream",
          "name": "stdout",
          "text": [
            "{'forecasts': [{'ghi': 748, 'ghi90': 772, 'ghi10': 696, 'ebh': 424, 'dni': 482, 'dni10': 352, 'dni90': 545, 'dhi': 324, 'air_temp': 24, 'zenith': 28, 'azimuth': 175, 'cloud_opacity': 17, 'period_end': '2023-06-09T20:00:00.0000000Z', 'period': 'PT30M'}, {'ghi': 715, 'ghi90': 817, 'ghi10': 554, 'ebh': 366, 'dni': 420, 'dni10': 71, 'dni90': 692, 'dhi': 349, 'air_temp': 24, 'zenith': 29, 'azimuth': 161, 'cloud_opacity': 20, 'period_end': '2023-06-09T20:30:00.0000000Z', 'period': 'PT30M'}, {'ghi': 744, 'ghi90': 808, 'ghi10': 625, 'ebh': 457, 'dni': 535, 'dni10': 241, 'dni90': 719, 'dhi': 286, 'air_temp': 24, 'zenith': 31, 'azimuth': 148, 'cloud_opacity': 14, 'period_end': '2023-06-09T21:00:00.0000000Z', 'period': 'PT30M'}, {'ghi': 691, 'ghi90': 780, 'ghi10': 563, 'ebh': 381, 'dni': 461, 'dni10': 153, 'dni90': 721, 'dhi': 309, 'air_temp': 24, 'zenith': 34, 'azimuth': 136, 'cloud_opacity': 17, 'period_end': '2023-06-09T21:30:00.0000000Z', 'period': 'PT30M'}, {'ghi': 679, 'ghi90': 783, 'ghi10': 571, 'ebh': 414, 'dni': 524, 'dni10': 236, 'dni90': 855, 'dhi': 265, 'air_temp': 24, 'zenith': 38, 'azimuth': 126, 'cloud_opacity': 14, 'period_end': '2023-06-09T22:00:00.0000000Z', 'period': 'PT30M'}, {'ghi': 617, 'ghi90': 686, 'ghi10': 499, 'ebh': 346, 'dni': 463, 'dni10': 146, 'dni90': 682, 'dhi': 271, 'air_temp': 23, 'zenith': 42, 'azimuth': 117, 'cloud_opacity': 16, 'period_end': '2023-06-09T22:30:00.0000000Z', 'period': 'PT30M'}, {'ghi': 489, 'ghi90': 615, 'ghi10': 343, 'ebh': 154, 'dni': 220, 'dni10': 0, 'dni90': 619, 'dhi': 335, 'air_temp': 21, 'zenith': 46, 'azimuth': 110, 'cloud_opacity': 28, 'period_end': '2023-06-09T23:00:00.0000000Z', 'period': 'PT30M'}, {'ghi': 342, 'ghi90': 522, 'ghi10': 171, 'ebh': 10, 'dni': 16, 'dni10': 0, 'dni90': 483, 'dhi': 332, 'air_temp': 20, 'zenith': 51, 'azimuth': 103, 'cloud_opacity': 44, 'period_end': '2023-06-09T23:30:00.0000000Z', 'period': 'PT30M'}, {'ghi': 236, 'ghi90': 422, 'ghi10': 83, 'ebh': 0, 'dni': 0, 'dni10': 0, 'dni90': 319, 'dhi': 236, 'air_temp': 19, 'zenith': 55, 'azimuth': 96, 'cloud_opacity': 56, 'period_end': '2023-06-10T00:00:00.0000000Z', 'period': 'PT30M'}, {'ghi': 172, 'ghi90': 333, 'ghi10': 48, 'ebh': 0, 'dni': 0, 'dni10': 0, 'dni90': 189, 'dhi': 172, 'air_temp': 18, 'zenith': 60, 'azimuth': 90, 'cloud_opacity': 62, 'period_end': '2023-06-10T00:30:00.0000000Z', 'period': 'PT30M'}, {'ghi': 125, 'ghi90': 258, 'ghi10': 27, 'ebh': 0, 'dni': 0, 'dni10': 0, 'dni90': 97, 'dhi': 125, 'air_temp': 17, 'zenith': 65, 'azimuth': 84, 'cloud_opacity': 67, 'period_end': '2023-06-10T01:00:00.0000000Z', 'period': 'PT30M'}, {'ghi': 83, 'ghi90': 188, 'ghi10': 14, 'ebh': 0, 'dni': 0, 'dni10': 0, 'dni90': 13, 'dhi': 83, 'air_temp': 17, 'zenith': 69, 'azimuth': 79, 'cloud_opacity': 72, 'period_end': '2023-06-10T01:30:00.0000000Z', 'period': 'PT30M'}, {'ghi': 49, 'ghi90': 126, 'ghi10': 8, 'ebh': 0, 'dni': 0, 'dni10': 0, 'dni90': 0, 'dhi': 49, 'air_temp': 16, 'zenith': 74, 'azimuth': 73, 'cloud_opacity': 78, 'period_end': '2023-06-10T02:00:00.0000000Z', 'period': 'PT30M'}, {'ghi': 27, 'ghi90': 76, 'ghi10': 4, 'ebh': 0, 'dni': 0, 'dni10': 0, 'dni90': 0, 'dhi': 27, 'air_temp': 16, 'zenith': 78, 'azimuth': 68, 'cloud_opacity': 82, 'period_end': '2023-06-10T02:30:00.0000000Z', 'period': 'PT30M'}, {'ghi': 13, 'ghi90': 41, 'ghi10': 3, 'ebh': 0, 'dni': 0, 'dni10': 0, 'dni90': 0, 'dhi': 13, 'air_temp': 16, 'zenith': 83, 'azimuth': 62, 'cloud_opacity': 84, 'period_end': '2023-06-10T03:00:00.0000000Z', 'period': 'PT30M'}, {'ghi': 5, 'ghi90': 16, 'ghi10': 1, 'ebh': 0, 'dni': 0, 'dni10': 0, 'dni90': 0, 'dhi': 5, 'air_temp': 16, 'zenith': 87, 'azimuth': 57, 'cloud_opacity': 84, 'period_end': '2023-06-10T03:30:00.0000000Z', 'period': 'PT30M'}, {'ghi': 0, 'ghi90': 1, 'ghi10': 0, 'ebh': 0, 'dni': 0, 'dni10': 0, 'dni90': 0, 'dhi': 0, 'air_temp': 15, 'zenith': 90, 'azimuth': 51, 'cloud_opacity': 82, 'period_end': '2023-06-10T04:00:00.0000000Z', 'period': 'PT30M'}, {'ghi': 0, 'ghi90': 0, 'ghi10': 0, 'ebh': 0, 'dni': 0, 'dni10': 0, 'dni90': 0, 'dhi': 0, 'air_temp': 15, 'zenith': 94, 'azimuth': 45, 'cloud_opacity': 80, 'period_end': '2023-06-10T04:30:00.0000000Z', 'period': 'PT30M'}, {'ghi': 0, 'ghi90': 0, 'ghi10': 0, 'ebh': 0, 'dni': 0, 'dni10': 0, 'dni90': 0, 'dhi': 0, 'air_temp': 15, 'zenith': 97, 'azimuth': 39, 'cloud_opacity': 79, 'period_end': '2023-06-10T05:00:00.0000000Z', 'period': 'PT30M'}, {'ghi': 0, 'ghi90': 0, 'ghi10': 0, 'ebh': 0, 'dni': 0, 'dni10': 0, 'dni90': 0, 'dhi': 0, 'air_temp': 15, 'zenith': 100, 'azimuth': 33, 'cloud_opacity': 77, 'period_end': '2023-06-10T05:30:00.0000000Z', 'period': 'PT30M'}, {'ghi': 0, 'ghi90': 0, 'ghi10': 0, 'ebh': 0, 'dni': 0, 'dni10': 0, 'dni90': 0, 'dhi': 0, 'air_temp': 15, 'zenith': 102, 'azimuth': 26, 'cloud_opacity': 76, 'period_end': '2023-06-10T06:00:00.0000000Z', 'period': 'PT30M'}, {'ghi': 0, 'ghi90': 0, 'ghi10': 0, 'ebh': 0, 'dni': 0, 'dni10': 0, 'dni90': 0, 'dhi': 0, 'air_temp': 15, 'zenith': 104, 'azimuth': 19, 'cloud_opacity': 74, 'period_end': '2023-06-10T06:30:00.0000000Z', 'period': 'PT30M'}, {'ghi': 0, 'ghi90': 0, 'ghi10': 0, 'ebh': 0, 'dni': 0, 'dni10': 0, 'dni90': 0, 'dhi': 0, 'air_temp': 15, 'zenith': 105, 'azimuth': 12, 'cloud_opacity': 73, 'period_end': '2023-06-10T07:00:00.0000000Z', 'period': 'PT30M'}, {'ghi': 0, 'ghi90': 0, 'ghi10': 0, 'ebh': 0, 'dni': 0, 'dni10': 0, 'dni90': 0, 'dhi': 0, 'air_temp': 14, 'zenith': 106, 'azimuth': 5, 'cloud_opacity': 71, 'period_end': '2023-06-10T07:30:00.0000000Z', 'period': 'PT30M'}, {'ghi': 0, 'ghi90': 0, 'ghi10': 0, 'ebh': 0, 'dni': 0, 'dni10': 0, 'dni90': 0, 'dhi': 0, 'air_temp': 14, 'zenith': 106, 'azimuth': -2, 'cloud_opacity': 69, 'period_end': '2023-06-10T08:00:00.0000000Z', 'period': 'PT30M'}, {'ghi': 0, 'ghi90': 0, 'ghi10': 0, 'ebh': 0, 'dni': 0, 'dni10': 0, 'dni90': 0, 'dhi': 0, 'air_temp': 14, 'zenith': 105, 'azimuth': -9, 'cloud_opacity': 66, 'period_end': '2023-06-10T08:30:00.0000000Z', 'period': 'PT30M'}, {'ghi': 0, 'ghi90': 0, 'ghi10': 0, 'ebh': 0, 'dni': 0, 'dni10': 0, 'dni90': 0, 'dhi': 0, 'air_temp': 14, 'zenith': 104, 'azimuth': -16, 'cloud_opacity': 64, 'period_end': '2023-06-10T09:00:00.0000000Z', 'period': 'PT30M'}, {'ghi': 0, 'ghi90': 0, 'ghi10': 0, 'ebh': 0, 'dni': 0, 'dni10': 0, 'dni90': 0, 'dhi': 0, 'air_temp': 14, 'zenith': 103, 'azimuth': -23, 'cloud_opacity': 62, 'period_end': '2023-06-10T09:30:00.0000000Z', 'period': 'PT30M'}, {'ghi': 0, 'ghi90': 0, 'ghi10': 0, 'ebh': 0, 'dni': 0, 'dni10': 0, 'dni90': 0, 'dhi': 0, 'air_temp': 14, 'zenith': 101, 'azimuth': -30, 'cloud_opacity': 61, 'period_end': '2023-06-10T10:00:00.0000000Z', 'period': 'PT30M'}, {'ghi': 0, 'ghi90': 0, 'ghi10': 0, 'ebh': 0, 'dni': 0, 'dni10': 0, 'dni90': 0, 'dhi': 0, 'air_temp': 14, 'zenith': 98, 'azimuth': -37, 'cloud_opacity': 59, 'period_end': '2023-06-10T10:30:00.0000000Z', 'period': 'PT30M'}, {'ghi': 0, 'ghi90': 0, 'ghi10': 0, 'ebh': 0, 'dni': 0, 'dni10': 0, 'dni90': 0, 'dhi': 0, 'air_temp': 14, 'zenith': 95, 'azimuth': -43, 'cloud_opacity': 56, 'period_end': '2023-06-10T11:00:00.0000000Z', 'period': 'PT30M'}, {'ghi': 0, 'ghi90': 0, 'ghi10': 0, 'ebh': 0, 'dni': 0, 'dni10': 0, 'dni90': 0, 'dhi': 0, 'air_temp': 14, 'zenith': 92, 'azimuth': -49, 'cloud_opacity': 54, 'period_end': '2023-06-10T11:30:00.0000000Z', 'period': 'PT30M'}, {'ghi': 8, 'ghi90': 17, 'ghi10': 2, 'ebh': 0, 'dni': 0, 'dni10': 0, 'dni90': 65, 'dhi': 8, 'air_temp': 13, 'zenith': 88, 'azimuth': -55, 'cloud_opacity': 51, 'period_end': '2023-06-10T12:00:00.0000000Z', 'period': 'PT30M'}, {'ghi': 32, 'ghi90': 63, 'ghi10': 9, 'ebh': 0, 'dni': 0, 'dni10': 0, 'dni90': 311, 'dhi': 32, 'air_temp': 13, 'zenith': 84, 'azimuth': -60, 'cloud_opacity': 50, 'period_end': '2023-06-10T12:30:00.0000000Z', 'period': 'PT30M'}, {'ghi': 68, 'ghi90': 125, 'ghi10': 21, 'ebh': 0, 'dni': 0, 'dni10': 0, 'dni90': 461, 'dhi': 68, 'air_temp': 14, 'zenith': 80, 'azimuth': -66, 'cloud_opacity': 46, 'period_end': '2023-06-10T13:00:00.0000000Z', 'period': 'PT30M'}, {'ghi': 120, 'ghi90': 196, 'ghi10': 41, 'ebh': 0, 'dni': 0, 'dni10': 0, 'dni90': 567, 'dhi': 120, 'air_temp': 14, 'zenith': 75, 'azimuth': -71, 'cloud_opacity': 39, 'period_end': '2023-06-10T13:30:00.0000000Z', 'period': 'PT30M'}, {'ghi': 174, 'ghi90': 273, 'ghi10': 66, 'ebh': 4, 'dni': 11, 'dni10': 0, 'dni90': 646, 'dhi': 170, 'air_temp': 15, 'zenith': 71, 'azimuth': -77, 'cloud_opacity': 36, 'period_end': '2023-06-10T14:00:00.0000000Z', 'period': 'PT30M'}, {'ghi': 236, 'ghi90': 353, 'ghi10': 98, 'ebh': 29, 'dni': 71, 'dni10': 0, 'dni90': 706, 'dhi': 206, 'air_temp': 16, 'zenith': 66, 'azimuth': -82, 'cloud_opacity': 33, 'period_end': '2023-06-10T14:30:00.0000000Z', 'period': 'PT30M'}, {'ghi': 304, 'ghi90': 433, 'ghi10': 134, 'ebh': 69, 'dni': 145, 'dni10': 0, 'dni90': 753, 'dhi': 235, 'air_temp': 17, 'zenith': 62, 'azimuth': -88, 'cloud_opacity': 30, 'period_end': '2023-06-10T15:00:00.0000000Z', 'period': 'PT30M'}, {'ghi': 373, 'ghi90': 511, 'ghi10': 172, 'ebh': 112, 'dni': 205, 'dni10': 0, 'dni90': 788, 'dhi': 261, 'air_temp': 18, 'zenith': 57, 'azimuth': -94, 'cloud_opacity': 27, 'period_end': '2023-06-10T15:30:00.0000000Z', 'period': 'PT30M'}, {'ghi': 435, 'ghi90': 585, 'ghi10': 218, 'ebh': 149, 'dni': 242, 'dni10': 0, 'dni90': 816, 'dhi': 286, 'air_temp': 18, 'zenith': 52, 'azimuth': -100, 'cloud_opacity': 26, 'period_end': '2023-06-10T16:00:00.0000000Z', 'period': 'PT30M'}, {'ghi': 493, 'ghi90': 654, 'ghi10': 274, 'ebh': 184, 'dni': 273, 'dni10': 0, 'dni90': 838, 'dhi': 309, 'air_temp': 19, 'zenith': 48, 'azimuth': -107, 'cloud_opacity': 25, 'period_end': '2023-06-10T16:30:00.0000000Z', 'period': 'PT30M'}, {'ghi': 549, 'ghi90': 717, 'ghi10': 328, 'ebh': 223, 'dni': 306, 'dni10': 0, 'dni90': 857, 'dhi': 326, 'air_temp': 20, 'zenith': 43, 'azimuth': -114, 'cloud_opacity': 24, 'period_end': '2023-06-10T17:00:00.0000000Z', 'period': 'PT30M'}, {'ghi': 595, 'ghi90': 771, 'ghi10': 367, 'ebh': 252, 'dni': 325, 'dni10': 0, 'dni90': 872, 'dhi': 343, 'air_temp': 21, 'zenith': 39, 'azimuth': -123, 'cloud_opacity': 23, 'period_end': '2023-06-10T17:30:00.0000000Z', 'period': 'PT30M'}, {'ghi': 629, 'ghi90': 817, 'ghi10': 394, 'ebh': 268, 'dni': 328, 'dni10': 0, 'dni90': 883, 'dhi': 361, 'air_temp': 22, 'zenith': 35, 'azimuth': -132, 'cloud_opacity': 23, 'period_end': '2023-06-10T18:00:00.0000000Z', 'period': 'PT30M'}, {'ghi': 651, 'ghi90': 852, 'ghi10': 398, 'ebh': 273, 'dni': 322, 'dni10': 0, 'dni90': 891, 'dhi': 379, 'air_temp': 22, 'zenith': 32, 'azimuth': -144, 'cloud_opacity': 24, 'period_end': '2023-06-10T18:30:00.0000000Z', 'period': 'PT30M'}, {'ghi': 667, 'ghi90': 876, 'ghi10': 390, 'ebh': 275, 'dni': 318, 'dni10': 0, 'dni90': 896, 'dhi': 391, 'air_temp': 23, 'zenith': 30, 'azimuth': -156, 'cloud_opacity': 24, 'period_end': '2023-06-10T19:00:00.0000000Z', 'period': 'PT30M'}, {'ghi': 672, 'ghi90': 890, 'ghi10': 381, 'ebh': 269, 'dni': 306, 'dni10': 0, 'dni90': 900, 'dhi': 402, 'air_temp': 23, 'zenith': 28, 'azimuth': -170, 'cloud_opacity': 24, 'period_end': '2023-06-10T19:30:00.0000000Z', 'period': 'PT30M'}, {'ghi': 665, 'ghi90': 892, 'ghi10': 372, 'ebh': 255, 'dni': 289, 'dni10': 0, 'dni90': 902, 'dhi': 410, 'air_temp': 24, 'zenith': 28, 'azimuth': 175, 'cloud_opacity': 25, 'period_end': '2023-06-10T20:00:00.0000000Z', 'period': 'PT30M'}, {'ghi': 657, 'ghi90': 882, 'ghi10': 368, 'ebh': 250, 'dni': 286, 'dni10': 0, 'dni90': 898, 'dhi': 408, 'air_temp': 24, 'zenith': 29, 'azimuth': 161, 'cloud_opacity': 26, 'period_end': '2023-06-10T20:30:00.0000000Z', 'period': 'PT30M'}, {'ghi': 648, 'ghi90': 860, 'ghi10': 367, 'ebh': 253, 'dni': 296, 'dni10': 0, 'dni90': 887, 'dhi': 395, 'air_temp': 24, 'zenith': 31, 'azimuth': 148, 'cloud_opacity': 25, 'period_end': '2023-06-10T21:00:00.0000000Z', 'period': 'PT30M'}, {'ghi': 628, 'ghi90': 827, 'ghi10': 363, 'ebh': 250, 'dni': 302, 'dni10': 0, 'dni90': 874, 'dhi': 379, 'air_temp': 25, 'zenith': 34, 'azimuth': 136, 'cloud_opacity': 24, 'period_end': '2023-06-10T21:30:00.0000000Z', 'period': 'PT30M'}, {'ghi': 595, 'ghi90': 784, 'ghi10': 339, 'ebh': 231, 'dni': 291, 'dni10': 0, 'dni90': 859, 'dhi': 364, 'air_temp': 25, 'zenith': 38, 'azimuth': 126, 'cloud_opacity': 24, 'period_end': '2023-06-10T22:00:00.0000000Z', 'period': 'PT30M'}, {'ghi': 556, 'ghi90': 732, 'ghi10': 311, 'ebh': 211, 'dni': 282, 'dni10': 0, 'dni90': 842, 'dhi': 345, 'air_temp': 25, 'zenith': 42, 'azimuth': 117, 'cloud_opacity': 24, 'period_end': '2023-06-10T22:30:00.0000000Z', 'period': 'PT30M'}, {'ghi': 514, 'ghi90': 673, 'ghi10': 281, 'ebh': 196, 'dni': 283, 'dni10': 0, 'dni90': 824, 'dhi': 317, 'air_temp': 25, 'zenith': 46, 'azimuth': 110, 'cloud_opacity': 24, 'period_end': '2023-06-10T23:00:00.0000000Z', 'period': 'PT30M'}, {'ghi': 461, 'ghi90': 606, 'ghi10': 232, 'ebh': 169, 'dni': 266, 'dni10': 0, 'dni90': 803, 'dhi': 292, 'air_temp': 25, 'zenith': 50, 'azimuth': 103, 'cloud_opacity': 24, 'period_end': '2023-06-10T23:30:00.0000000Z', 'period': 'PT30M'}, {'ghi': 396, 'ghi90': 535, 'ghi10': 180, 'ebh': 124, 'dni': 217, 'dni10': 0, 'dni90': 781, 'dhi': 271, 'air_temp': 24, 'zenith': 55, 'azimuth': 96, 'cloud_opacity': 26, 'period_end': '2023-06-11T00:00:00.0000000Z', 'period': 'PT30M'}, {'ghi': 334, 'ghi90': 460, 'ghi10': 147, 'ebh': 92, 'dni': 183, 'dni10': 0, 'dni90': 753, 'dhi': 242, 'air_temp': 24, 'zenith': 60, 'azimuth': 90, 'cloud_opacity': 27, 'period_end': '2023-06-11T00:30:00.0000000Z', 'period': 'PT30M'}, {'ghi': 280, 'ghi90': 382, 'ghi10': 122, 'ebh': 76, 'dni': 177, 'dni10': 0, 'dni90': 720, 'dhi': 204, 'air_temp': 24, 'zenith': 65, 'azimuth': 84, 'cloud_opacity': 27, 'period_end': '2023-06-11T01:00:00.0000000Z', 'period': 'PT30M'}, {'ghi': 216, 'ghi90': 304, 'ghi10': 88, 'ebh': 45, 'dni': 126, 'dni10': 0, 'dni90': 675, 'dhi': 171, 'air_temp': 23, 'zenith': 69, 'azimuth': 79, 'cloud_opacity': 29, 'period_end': '2023-06-11T01:30:00.0000000Z', 'period': 'PT30M'}, {'ghi': 152, 'ghi90': 227, 'ghi10': 55, 'ebh': 12, 'dni': 41, 'dni10': 0, 'dni90': 614, 'dhi': 140, 'air_temp': 23, 'zenith': 74, 'azimuth': 73, 'cloud_opacity': 33, 'period_end': '2023-06-11T02:00:00.0000000Z', 'period': 'PT30M'}, {'ghi': 90, 'ghi90': 154, 'ghi10': 29, 'ebh': 0, 'dni': 0, 'dni10': 0, 'dni90': 530, 'dhi': 90, 'air_temp': 22, 'zenith': 78, 'azimuth': 68, 'cloud_opacity': 42, 'period_end': '2023-06-11T02:30:00.0000000Z', 'period': 'PT30M'}, {'ghi': 43, 'ghi90': 88, 'ghi10': 12, 'ebh': 0, 'dni': 0, 'dni10': 0, 'dni90': 410, 'dhi': 43, 'air_temp': 21, 'zenith': 82, 'azimuth': 62, 'cloud_opacity': 51, 'period_end': '2023-06-11T03:00:00.0000000Z', 'period': 'PT30M'}, {'ghi': 16, 'ghi90': 34, 'ghi10': 4, 'ebh': 0, 'dni': 0, 'dni10': 0, 'dni90': 179, 'dhi': 16, 'air_temp': 20, 'zenith': 87, 'azimuth': 57, 'cloud_opacity': 53, 'period_end': '2023-06-11T03:30:00.0000000Z', 'period': 'PT30M'}, {'ghi': 1, 'ghi90': 2, 'ghi10': 0, 'ebh': 0, 'dni': 0, 'dni10': 0, 'dni90': 6, 'dhi': 1, 'air_temp': 19, 'zenith': 90, 'azimuth': 51, 'cloud_opacity': 52, 'period_end': '2023-06-11T04:00:00.0000000Z', 'period': 'PT30M'}, {'ghi': 0, 'ghi90': 0, 'ghi10': 0, 'ebh': 0, 'dni': 0, 'dni10': 0, 'dni90': 0, 'dhi': 0, 'air_temp': 18, 'zenith': 94, 'azimuth': 45, 'cloud_opacity': 50, 'period_end': '2023-06-11T04:30:00.0000000Z', 'period': 'PT30M'}, {'ghi': 0, 'ghi90': 0, 'ghi10': 0, 'ebh': 0, 'dni': 0, 'dni10': 0, 'dni90': 0, 'dhi': 0, 'air_temp': 18, 'zenith': 97, 'azimuth': 39, 'cloud_opacity': 49, 'period_end': '2023-06-11T05:00:00.0000000Z', 'period': 'PT30M'}, {'ghi': 0, 'ghi90': 0, 'ghi10': 0, 'ebh': 0, 'dni': 0, 'dni10': 0, 'dni90': 0, 'dhi': 0, 'air_temp': 17, 'zenith': 100, 'azimuth': 33, 'cloud_opacity': 48, 'period_end': '2023-06-11T05:30:00.0000000Z', 'period': 'PT30M'}, {'ghi': 0, 'ghi90': 0, 'ghi10': 0, 'ebh': 0, 'dni': 0, 'dni10': 0, 'dni90': 0, 'dhi': 0, 'air_temp': 16, 'zenith': 102, 'azimuth': 26, 'cloud_opacity': 47, 'period_end': '2023-06-11T06:00:00.0000000Z', 'period': 'PT30M'}, {'ghi': 0, 'ghi90': 0, 'ghi10': 0, 'ebh': 0, 'dni': 0, 'dni10': 0, 'dni90': 0, 'dhi': 0, 'air_temp': 16, 'zenith': 104, 'azimuth': 19, 'cloud_opacity': 46, 'period_end': '2023-06-11T06:30:00.0000000Z', 'period': 'PT30M'}, {'ghi': 0, 'ghi90': 0, 'ghi10': 0, 'ebh': 0, 'dni': 0, 'dni10': 0, 'dni90': 0, 'dhi': 0, 'air_temp': 15, 'zenith': 105, 'azimuth': 12, 'cloud_opacity': 47, 'period_end': '2023-06-11T07:00:00.0000000Z', 'period': 'PT30M'}, {'ghi': 0, 'ghi90': 0, 'ghi10': 0, 'ebh': 0, 'dni': 0, 'dni10': 0, 'dni90': 0, 'dhi': 0, 'air_temp': 15, 'zenith': 106, 'azimuth': 5, 'cloud_opacity': 50, 'period_end': '2023-06-11T07:30:00.0000000Z', 'period': 'PT30M'}, {'ghi': 0, 'ghi90': 0, 'ghi10': 0, 'ebh': 0, 'dni': 0, 'dni10': 0, 'dni90': 0, 'dhi': 0, 'air_temp': 14, 'zenith': 106, 'azimuth': -2, 'cloud_opacity': 56, 'period_end': '2023-06-11T08:00:00.0000000Z', 'period': 'PT30M'}, {'ghi': 0, 'ghi90': 0, 'ghi10': 0, 'ebh': 0, 'dni': 0, 'dni10': 0, 'dni90': 0, 'dhi': 0, 'air_temp': 14, 'zenith': 105, 'azimuth': -9, 'cloud_opacity': 57, 'period_end': '2023-06-11T08:30:00.0000000Z', 'period': 'PT30M'}, {'ghi': 0, 'ghi90': 0, 'ghi10': 0, 'ebh': 0, 'dni': 0, 'dni10': 0, 'dni90': 0, 'dhi': 0, 'air_temp': 13, 'zenith': 104, 'azimuth': -16, 'cloud_opacity': 55, 'period_end': '2023-06-11T09:00:00.0000000Z', 'period': 'PT30M'}, {'ghi': 0, 'ghi90': 0, 'ghi10': 0, 'ebh': 0, 'dni': 0, 'dni10': 0, 'dni90': 0, 'dhi': 0, 'air_temp': 13, 'zenith': 103, 'azimuth': -23, 'cloud_opacity': 54, 'period_end': '2023-06-11T09:30:00.0000000Z', 'period': 'PT30M'}, {'ghi': 0, 'ghi90': 0, 'ghi10': 0, 'ebh': 0, 'dni': 0, 'dni10': 0, 'dni90': 0, 'dhi': 0, 'air_temp': 12, 'zenith': 101, 'azimuth': -30, 'cloud_opacity': 55, 'period_end': '2023-06-11T10:00:00.0000000Z', 'period': 'PT30M'}, {'ghi': 0, 'ghi90': 0, 'ghi10': 0, 'ebh': 0, 'dni': 0, 'dni10': 0, 'dni90': 0, 'dhi': 0, 'air_temp': 12, 'zenith': 98, 'azimuth': -37, 'cloud_opacity': 56, 'period_end': '2023-06-11T10:30:00.0000000Z', 'period': 'PT30M'}, {'ghi': 0, 'ghi90': 0, 'ghi10': 0, 'ebh': 0, 'dni': 0, 'dni10': 0, 'dni90': 0, 'dhi': 0, 'air_temp': 12, 'zenith': 95, 'azimuth': -43, 'cloud_opacity': 55, 'period_end': '2023-06-11T11:00:00.0000000Z', 'period': 'PT30M'}, {'ghi': 0, 'ghi90': 0, 'ghi10': 0, 'ebh': 0, 'dni': 0, 'dni10': 0, 'dni90': 0, 'dhi': 0, 'air_temp': 12, 'zenith': 92, 'azimuth': -49, 'cloud_opacity': 54, 'period_end': '2023-06-11T11:30:00.0000000Z', 'period': 'PT30M'}, {'ghi': 8, 'ghi90': 18, 'ghi10': 1, 'ebh': 0, 'dni': 0, 'dni10': 0, 'dni90': 75, 'dhi': 8, 'air_temp': 12, 'zenith': 88, 'azimuth': -55, 'cloud_opacity': 54, 'period_end': '2023-06-11T12:00:00.0000000Z', 'period': 'PT30M'}, {'ghi': 29, 'ghi90': 65, 'ghi10': 5, 'ebh': 0, 'dni': 0, 'dni10': 0, 'dni90': 326, 'dhi': 29, 'air_temp': 13, 'zenith': 84, 'azimuth': -60, 'cloud_opacity': 55, 'period_end': '2023-06-11T12:30:00.0000000Z', 'period': 'PT30M'}, {'ghi': 58, 'ghi90': 127, 'ghi10': 10, 'ebh': 0, 'dni': 0, 'dni10': 0, 'dni90': 458, 'dhi': 58, 'air_temp': 14, 'zenith': 80, 'azimuth': -66, 'cloud_opacity': 54, 'period_end': '2023-06-11T13:00:00.0000000Z', 'period': 'PT30M'}, {'ghi': 101, 'ghi90': 197, 'ghi10': 19, 'ebh': 0, 'dni': 0, 'dni10': 0, 'dni90': 547, 'dhi': 101, 'air_temp': 15, 'zenith': 75, 'azimuth': -71, 'cloud_opacity': 49, 'period_end': '2023-06-11T13:30:00.0000000Z', 'period': 'PT30M'}, {'ghi': 151, 'ghi90': 273, 'ghi10': 34, 'ebh': 0, 'dni': 0, 'dni10': 0, 'dni90': 611, 'dhi': 151, 'air_temp': 16, 'zenith': 71, 'azimuth': -77, 'cloud_opacity': 45, 'period_end': '2023-06-11T14:00:00.0000000Z', 'period': 'PT30M'}, {'ghi': 199, 'ghi90': 352, 'ghi10': 48, 'ebh': 0, 'dni': 0, 'dni10': 0, 'dni90': 666, 'dhi': 199, 'air_temp': 16, 'zenith': 66, 'azimuth': -82, 'cloud_opacity': 43, 'period_end': '2023-06-11T14:30:00.0000000Z', 'period': 'PT30M'}, {'ghi': 238, 'ghi90': 432, 'ghi10': 55, 'ebh': 0, 'dni': 0, 'dni10': 0, 'dni90': 717, 'dhi': 238, 'air_temp': 16, 'zenith': 62, 'azimuth': -88, 'cloud_opacity': 45, 'period_end': '2023-06-11T15:00:00.0000000Z', 'period': 'PT30M'}, {'ghi': 277, 'ghi90': 511, 'ghi10': 62, 'ebh': 0, 'dni': 0, 'dni10': 0, 'dni90': 755, 'dhi': 277, 'air_temp': 17, 'zenith': 57, 'azimuth': -94, 'cloud_opacity': 46, 'period_end': '2023-06-11T15:30:00.0000000Z', 'period': 'PT30M'}, {'ghi': 321, 'ghi90': 584, 'ghi10': 77, 'ebh': 0, 'dni': 0, 'dni10': 0, 'dni90': 779, 'dhi': 321, 'air_temp': 17, 'zenith': 52, 'azimuth': -100, 'cloud_opacity': 45, 'period_end': '2023-06-11T16:00:00.0000000Z', 'period': 'PT30M'}, {'ghi': 364, 'ghi90': 618, 'ghi10': 90, 'ebh': 0, 'dni': 0, 'dni10': 0, 'dni90': 672, 'dhi': 364, 'air_temp': 17, 'zenith': 48, 'azimuth': -107, 'cloud_opacity': 44, 'period_end': '2023-06-11T16:30:00.0000000Z', 'period': 'PT30M'}, {'ghi': 396, 'ghi90': 641, 'ghi10': 95, 'ebh': 0, 'dni': 0, 'dni10': 0, 'dni90': 563, 'dhi': 396, 'air_temp': 17, 'zenith': 43, 'azimuth': -114, 'cloud_opacity': 45, 'period_end': '2023-06-11T17:00:00.0000000Z', 'period': 'PT30M'}, {'ghi': 412, 'ghi90': 665, 'ghi10': 84, 'ebh': 0, 'dni': 0, 'dni10': 0, 'dni90': 502, 'dhi': 412, 'air_temp': 18, 'zenith': 39, 'azimuth': -123, 'cloud_opacity': 46, 'period_end': '2023-06-11T17:30:00.0000000Z', 'period': 'PT30M'}, {'ghi': 415, 'ghi90': 678, 'ghi10': 60, 'ebh': 0, 'dni': 0, 'dni10': 0, 'dni90': 436, 'dhi': 415, 'air_temp': 18, 'zenith': 35, 'azimuth': -132, 'cloud_opacity': 49, 'period_end': '2023-06-11T18:00:00.0000000Z', 'period': 'PT30M'}, {'ghi': 406, 'ghi90': 692, 'ghi10': 46, 'ebh': 0, 'dni': 0, 'dni10': 0, 'dni90': 401, 'dhi': 406, 'air_temp': 19, 'zenith': 32, 'azimuth': -143, 'cloud_opacity': 52, 'period_end': '2023-06-11T18:30:00.0000000Z', 'period': 'PT30M'}, {'ghi': 402, 'ghi90': 707, 'ghi10': 46, 'ebh': 0, 'dni': 0, 'dni10': 0, 'dni90': 393, 'dhi': 402, 'air_temp': 19, 'zenith': 30, 'azimuth': -156, 'cloud_opacity': 54, 'period_end': '2023-06-11T19:00:00.0000000Z', 'period': 'PT30M'}, {'ghi': 399, 'ghi90': 713, 'ghi10': 46, 'ebh': 0, 'dni': 0, 'dni10': 0, 'dni90': 383, 'dhi': 399, 'air_temp': 19, 'zenith': 28, 'azimuth': -170, 'cloud_opacity': 55, 'period_end': '2023-06-11T19:30:00.0000000Z', 'period': 'PT30M'}, {'ghi': 398, 'ghi90': 709, 'ghi10': 46, 'ebh': 0, 'dni': 0, 'dni10': 0, 'dni90': 372, 'dhi': 398, 'air_temp': 19, 'zenith': 28, 'azimuth': 175, 'cloud_opacity': 55, 'period_end': '2023-06-11T20:00:00.0000000Z', 'period': 'PT30M'}]}\n"
          ]
        }
      ]
    },
    {
      "cell_type": "code",
      "source": [
        "import pandas as pd\n",
        "\n",
        "def convert_dicts_to_dataframe(dict_list):\n",
        "    data = []\n",
        "    for dictionary in dict_list:\n",
        "        ghi = dictionary.get('ghi')\n",
        "        dni = dictionary.get('dni')\n",
        "        dhi = dictionary.get('dhi')\n",
        "        period_end = dictionary.get('period_end')\n",
        "        data.append({'ghi': ghi, 'dni': dni, 'dhi': dhi, 'period_end': period_end})\n",
        "\n",
        "    df = pd.DataFrame(data)\n",
        "    df.set_index('period_end', inplace=True)\n",
        "    return df"
      ],
      "metadata": {
        "id": "JoFJSPRHu7Ur"
      },
      "execution_count": null,
      "outputs": []
    },
    {
      "cell_type": "code",
      "source": [
        "data = convert_dicts_to_dataframe(data_dict['forecasts'])"
      ],
      "metadata": {
        "id": "qio3Lv1BuoU6"
      },
      "execution_count": null,
      "outputs": []
    },
    {
      "cell_type": "code",
      "source": [
        "data.to_csv('solcast.csv', columns=['ghi', 'dni', 'dhi'])"
      ],
      "metadata": {
        "id": "zYlg9A6wu-zk"
      },
      "execution_count": null,
      "outputs": []
    },
    {
      "cell_type": "markdown",
      "metadata": {
        "id": "UDSt1GrXwA6V"
      },
      "source": [
        "# Forecast\n",
        "\n",
        "* Python 3.5.2\n",
        "* IPython 5.0.0\n",
        "* pandas 0.18.0\n",
        "* matplotlib 1.5.1\n",
        "* netcdf4 1.6.4\n",
        "* siphon 0.7.0"
      ]
    },
    {
      "cell_type": "code",
      "source": [
        "!pip install netCDF4==1.6.4 --q\n",
        "!pip install siphon==0.7 --q"
      ],
      "metadata": {
        "id": "GuPxlh4-yJPi"
      },
      "execution_count": null,
      "outputs": []
    },
    {
      "cell_type": "code",
      "source": [
        "!pip install pvlib==0.9.1 --q"
      ],
      "metadata": {
        "id": "Q1YwrCf-zL0m"
      },
      "execution_count": null,
      "outputs": []
    },
    {
      "cell_type": "markdown",
      "metadata": {
        "id": "bFdLRYN8wA6b"
      },
      "source": [
        "## Setup"
      ]
    },
    {
      "cell_type": "code",
      "execution_count": null,
      "metadata": {
        "id": "yrxDjFMswA6b"
      },
      "outputs": [],
      "source": [
        "%matplotlib inline\n",
        "import matplotlib.pyplot as plt\n",
        "\n",
        "# built in python modules\n",
        "import datetime\n",
        "import os\n",
        "\n",
        "# python add-ons\n",
        "import numpy as np\n",
        "import pandas as pd\n",
        "\n",
        "# for accessing UNIDATA THREDD servers\n",
        "from siphon.catalog import TDSCatalog\n",
        "from siphon.ncss import NCSS\n",
        "\n",
        "import pvlib\n",
        "from pvlib.forecast import GFS, HRRR_ESRL, NAM, NDFD, HRRR, RAP"
      ]
    },
    {
      "cell_type": "code",
      "execution_count": null,
      "metadata": {
        "colab": {
          "base_uri": "https://localhost:8080/"
        },
        "id": "QeTG_kQawA6f",
        "outputId": "78e00101-1a85-42c8-b010-318139eb4f79"
      },
      "outputs": [
        {
          "output_type": "stream",
          "name": "stdout",
          "text": [
            "2023-06-10 05:47:33.613050-06:00 2023-06-11 05:47:33.613050-06:00\n"
          ]
        }
      ],
      "source": [
        "latitude = 51.087\n",
        "longitude = -114.1293\n",
        "tz = 'Canada/Mountain'\n",
        "\n",
        "start = pd.Timestamp(datetime.datetime.now() + datetime.timedelta(hours=10), tz=tz) # today's date\n",
        "end = start + pd.Timedelta(days=1)\n",
        "print(start, end)"
      ]
    },
    {
      "cell_type": "markdown",
      "metadata": {
        "id": "IctDbkv0wA6f"
      },
      "source": [
        "## NAM"
      ]
    },
    {
      "cell_type": "code",
      "execution_count": null,
      "metadata": {
        "id": "GQg8HjOowA6g"
      },
      "outputs": [],
      "source": [
        "from pvlib.forecast import GFS, HRRR_ESRL, NAM, NDFD, HRRR, RAP"
      ]
    },
    {
      "cell_type": "code",
      "execution_count": null,
      "metadata": {
        "colab": {
          "base_uri": "https://localhost:8080/"
        },
        "id": "F6dERvUQwA6g",
        "outputId": "93793b48-e971-4357-840c-8d8a71fac186"
      },
      "outputs": [
        {
          "output_type": "stream",
          "name": "stderr",
          "text": [
            "<ipython-input-120-8b40e7d7123f>:2: pvlibDeprecationWarning: The NAM class was deprecated in pvlib 0.9.1 and will be removed in a future release. For details, see https://pvlib-python.readthedocs.io/en/stable/user_guide/forecasts.html\n",
            "  fm = NAM()\n"
          ]
        }
      ],
      "source": [
        "# GFS model, defaults to 0.5 degree resolution\n",
        "fm = NAM()"
      ]
    },
    {
      "cell_type": "code",
      "execution_count": null,
      "metadata": {
        "colab": {
          "base_uri": "https://localhost:8080/"
        },
        "id": "KC2QL7piwA6h",
        "outputId": "6c9e126b-8bf1-4ab4-f9ad-9719f111ab07"
      },
      "outputs": [
        {
          "output_type": "stream",
          "name": "stderr",
          "text": [
            "WARNING:siphon.ncss_dataset:Cannot convert \"[428]\" to int. Keeping type as str.\n",
            "WARNING:siphon.ncss_dataset:Cannot convert \"[614]\" to int. Keeping type as str.\n",
            "WARNING:siphon.ncss_dataset:Cannot convert \"[4]\" to int. Keeping type as str.\n",
            "WARNING:siphon.ncss_dataset:Cannot convert \"[1]\" to int. Keeping type as str.\n",
            "WARNING:siphon.ncss_dataset:Cannot convert \"[272]\" to int. Keeping type as str.\n",
            "WARNING:siphon.ncss_dataset:Cannot convert \"[272]\" to int. Keeping type as str.\n",
            "WARNING:siphon.ncss_dataset:Cannot convert \"[1]\" to int. Keeping type as str.\n",
            "WARNING:siphon.ncss_dataset:Cannot convert \"[784]\" to int. Keeping type as str.\n",
            "WARNING:siphon.ncss_dataset:Cannot convert \"[784]\" to int. Keeping type as str.\n",
            "WARNING:siphon.ncss_dataset:Cannot convert \"[784]\" to int. Keeping type as str.\n",
            "WARNING:siphon.ncss_dataset:Cannot convert \"[784]\" to int. Keeping type as str.\n",
            "WARNING:siphon.ncss_dataset:Cannot convert \"[2]\" to int. Keeping type as str.\n",
            "WARNING:siphon.ncss_dataset:Cannot convert \"[3]\" to int. Keeping type as str.\n",
            "WARNING:siphon.ncss_dataset:Cannot convert \"[5]\" to int. Keeping type as str.\n",
            "WARNING:siphon.ncss_dataset:Cannot convert \"[5]\" to int. Keeping type as str.\n",
            "WARNING:siphon.ncss_dataset:Cannot convert \"[844]\" to int. Keeping type as str.\n",
            "WARNING:siphon.ncss_dataset:Cannot convert \"[844]\" to int. Keeping type as str.\n",
            "WARNING:siphon.ncss_dataset:Cannot convert \"[2]\" to int. Keeping type as str.\n",
            "WARNING:siphon.ncss_dataset:Cannot convert \"[5]\" to int. Keeping type as str.\n",
            "WARNING:siphon.ncss_dataset:Cannot convert \"[785]\" to int. Keeping type as str.\n",
            "WARNING:siphon.ncss_dataset:Cannot convert \"[785]\" to int. Keeping type as str.\n",
            "WARNING:siphon.ncss_dataset:Cannot convert \"[1]\" to int. Keeping type as str.\n",
            "WARNING:siphon.ncss_dataset:Cannot convert \"[1]\" to int. Keeping type as str.\n",
            "WARNING:siphon.ncss_dataset:Cannot convert \"[1]\" to int. Keeping type as str.\n",
            "WARNING:siphon.ncss_dataset:Cannot convert \"[2]\" to int. Keeping type as str.\n",
            "WARNING:siphon.ncss_dataset:Cannot convert \"[1]\" to int. Keeping type as str.\n",
            "WARNING:siphon.ncss_dataset:Cannot convert \"[1]\" to int. Keeping type as str.\n",
            "WARNING:siphon.ncss_dataset:Cannot convert \"[6]\" to int. Keeping type as str.\n",
            "WARNING:siphon.ncss_dataset:Cannot convert \"[1]\" to int. Keeping type as str.\n",
            "WARNING:siphon.ncss_dataset:Cannot convert \"[784]\" to int. Keeping type as str.\n",
            "WARNING:siphon.ncss_dataset:Cannot convert \"[784]\" to int. Keeping type as str.\n",
            "WARNING:siphon.ncss_dataset:Cannot convert \"[1]\" to int. Keeping type as str.\n",
            "WARNING:siphon.ncss_dataset:Cannot convert \"[1]\" to int. Keeping type as str.\n",
            "WARNING:siphon.ncss_dataset:Cannot convert \"[4]\" to int. Keeping type as str.\n",
            "WARNING:siphon.ncss_dataset:Cannot convert \"[1]\" to int. Keeping type as str.\n",
            "WARNING:siphon.ncss_dataset:Cannot convert \"[1]\" to int. Keeping type as str.\n",
            "WARNING:siphon.ncss_dataset:Cannot convert \"[2]\" to int. Keeping type as str.\n"
          ]
        }
      ],
      "source": [
        "# retrieve data\n",
        "data = fm.get_data(latitude, longitude, start, end)"
      ]
    },
    {
      "cell_type": "code",
      "execution_count": null,
      "metadata": {
        "colab": {
          "base_uri": "https://localhost:8080/",
          "height": 846
        },
        "id": "-ktHe-nVwA6h",
        "outputId": "3a04f184-f320-4fac-a6ba-020b9b4c1029"
      },
      "outputs": [
        {
          "output_type": "execute_result",
          "data": {
            "text/plain": [
              "                           Downward_Short-Wave_Radiation_Flux_surface  \\\n",
              "2023-06-10 06:00:00-06:00                                    7.000000   \n",
              "2023-06-10 07:00:00-06:00                                   12.000000   \n",
              "2023-06-10 08:00:00-06:00                                   96.000000   \n",
              "2023-06-10 09:00:00-06:00                                  100.000000   \n",
              "2023-06-10 10:00:00-06:00                                  385.690735   \n",
              "2023-06-10 11:00:00-06:00                                  722.535461   \n",
              "2023-06-10 12:00:00-06:00                                  820.931030   \n",
              "2023-06-10 13:00:00-06:00                                  898.002014   \n",
              "2023-06-10 14:00:00-06:00                                  884.263367   \n",
              "2023-06-10 15:00:00-06:00                                  821.316345   \n",
              "2023-06-10 16:00:00-06:00                                  787.033203   \n",
              "2023-06-10 17:00:00-06:00                                  663.000000   \n",
              "2023-06-10 18:00:00-06:00                                  509.000000   \n",
              "2023-06-10 19:00:00-06:00                                         NaN   \n",
              "2023-06-10 20:00:00-06:00                                         NaN   \n",
              "2023-06-10 21:00:00-06:00                                   37.700001   \n",
              "2023-06-10 22:00:00-06:00                                         NaN   \n",
              "2023-06-10 23:00:00-06:00                                         NaN   \n",
              "2023-06-11 00:00:00-06:00                                    0.000000   \n",
              "2023-06-11 01:00:00-06:00                                         NaN   \n",
              "2023-06-11 02:00:00-06:00                                         NaN   \n",
              "2023-06-11 03:00:00-06:00                                    0.000000   \n",
              "2023-06-11 04:00:00-06:00                                         NaN   \n",
              "2023-06-11 05:00:00-06:00                                         NaN   \n",
              "\n",
              "                           High_cloud_cover_high_cloud  \\\n",
              "2023-06-10 06:00:00-06:00                          0.0   \n",
              "2023-06-10 07:00:00-06:00                          0.0   \n",
              "2023-06-10 08:00:00-06:00                          0.0   \n",
              "2023-06-10 09:00:00-06:00                          0.0   \n",
              "2023-06-10 10:00:00-06:00                          0.0   \n",
              "2023-06-10 11:00:00-06:00                          0.0   \n",
              "2023-06-10 12:00:00-06:00                          0.0   \n",
              "2023-06-10 13:00:00-06:00                          0.0   \n",
              "2023-06-10 14:00:00-06:00                          0.0   \n",
              "2023-06-10 15:00:00-06:00                          1.0   \n",
              "2023-06-10 16:00:00-06:00                         21.0   \n",
              "2023-06-10 17:00:00-06:00                          7.0   \n",
              "2023-06-10 18:00:00-06:00                          0.0   \n",
              "2023-06-10 19:00:00-06:00                          NaN   \n",
              "2023-06-10 20:00:00-06:00                          NaN   \n",
              "2023-06-10 21:00:00-06:00                          4.0   \n",
              "2023-06-10 22:00:00-06:00                          NaN   \n",
              "2023-06-10 23:00:00-06:00                          NaN   \n",
              "2023-06-11 00:00:00-06:00                          0.0   \n",
              "2023-06-11 01:00:00-06:00                          NaN   \n",
              "2023-06-11 02:00:00-06:00                          NaN   \n",
              "2023-06-11 03:00:00-06:00                         87.0   \n",
              "2023-06-11 04:00:00-06:00                          NaN   \n",
              "2023-06-11 05:00:00-06:00                          NaN   \n",
              "\n",
              "                           Low_cloud_cover_low_cloud  \\\n",
              "2023-06-10 06:00:00-06:00                       80.0   \n",
              "2023-06-10 07:00:00-06:00                      100.0   \n",
              "2023-06-10 08:00:00-06:00                      100.0   \n",
              "2023-06-10 09:00:00-06:00                      100.0   \n",
              "2023-06-10 10:00:00-06:00                       97.0   \n",
              "2023-06-10 11:00:00-06:00                       25.0   \n",
              "2023-06-10 12:00:00-06:00                        2.0   \n",
              "2023-06-10 13:00:00-06:00                        2.0   \n",
              "2023-06-10 14:00:00-06:00                        0.0   \n",
              "2023-06-10 15:00:00-06:00                        0.0   \n",
              "2023-06-10 16:00:00-06:00                        0.0   \n",
              "2023-06-10 17:00:00-06:00                        0.0   \n",
              "2023-06-10 18:00:00-06:00                        0.0   \n",
              "2023-06-10 19:00:00-06:00                        NaN   \n",
              "2023-06-10 20:00:00-06:00                        NaN   \n",
              "2023-06-10 21:00:00-06:00                        0.0   \n",
              "2023-06-10 22:00:00-06:00                        NaN   \n",
              "2023-06-10 23:00:00-06:00                        NaN   \n",
              "2023-06-11 00:00:00-06:00                        0.0   \n",
              "2023-06-11 01:00:00-06:00                        NaN   \n",
              "2023-06-11 02:00:00-06:00                        NaN   \n",
              "2023-06-11 03:00:00-06:00                        0.0   \n",
              "2023-06-11 04:00:00-06:00                        NaN   \n",
              "2023-06-11 05:00:00-06:00                        NaN   \n",
              "\n",
              "                           Medium_cloud_cover_middle_cloud  \\\n",
              "2023-06-10 06:00:00-06:00                             62.0   \n",
              "2023-06-10 07:00:00-06:00                             68.0   \n",
              "2023-06-10 08:00:00-06:00                             13.0   \n",
              "2023-06-10 09:00:00-06:00                             28.0   \n",
              "2023-06-10 10:00:00-06:00                             22.0   \n",
              "2023-06-10 11:00:00-06:00                             15.0   \n",
              "2023-06-10 12:00:00-06:00                              3.0   \n",
              "2023-06-10 13:00:00-06:00                              2.0   \n",
              "2023-06-10 14:00:00-06:00                              2.0   \n",
              "2023-06-10 15:00:00-06:00                              4.0   \n",
              "2023-06-10 16:00:00-06:00                             17.0   \n",
              "2023-06-10 17:00:00-06:00                              8.0   \n",
              "2023-06-10 18:00:00-06:00                             16.0   \n",
              "2023-06-10 19:00:00-06:00                              NaN   \n",
              "2023-06-10 20:00:00-06:00                              NaN   \n",
              "2023-06-10 21:00:00-06:00                             32.0   \n",
              "2023-06-10 22:00:00-06:00                              NaN   \n",
              "2023-06-10 23:00:00-06:00                              NaN   \n",
              "2023-06-11 00:00:00-06:00                              0.0   \n",
              "2023-06-11 01:00:00-06:00                              NaN   \n",
              "2023-06-11 02:00:00-06:00                              NaN   \n",
              "2023-06-11 03:00:00-06:00                              0.0   \n",
              "2023-06-11 04:00:00-06:00                              NaN   \n",
              "2023-06-11 05:00:00-06:00                              NaN   \n",
              "\n",
              "                           Temperature_surface  \\\n",
              "2023-06-10 06:00:00-06:00           289.018463   \n",
              "2023-06-10 07:00:00-06:00           289.059662   \n",
              "2023-06-10 08:00:00-06:00           290.209656   \n",
              "2023-06-10 09:00:00-06:00           290.969666   \n",
              "2023-06-10 10:00:00-06:00           293.229675   \n",
              "2023-06-10 11:00:00-06:00           300.109680   \n",
              "2023-06-10 12:00:00-06:00           302.769653   \n",
              "2023-06-10 13:00:00-06:00           305.329681   \n",
              "2023-06-10 14:00:00-06:00           306.199677   \n",
              "2023-06-10 15:00:00-06:00           306.059662   \n",
              "2023-06-10 16:00:00-06:00           306.279663   \n",
              "2023-06-10 17:00:00-06:00           304.969666   \n",
              "2023-06-10 18:00:00-06:00           303.409668   \n",
              "2023-06-10 19:00:00-06:00                  NaN   \n",
              "2023-06-10 20:00:00-06:00                  NaN   \n",
              "2023-06-10 21:00:00-06:00           296.160431   \n",
              "2023-06-10 22:00:00-06:00                  NaN   \n",
              "2023-06-10 23:00:00-06:00                  NaN   \n",
              "2023-06-11 00:00:00-06:00           291.701782   \n",
              "2023-06-11 01:00:00-06:00                  NaN   \n",
              "2023-06-11 02:00:00-06:00                  NaN   \n",
              "2023-06-11 03:00:00-06:00           289.191925   \n",
              "2023-06-11 04:00:00-06:00                  NaN   \n",
              "2023-06-11 05:00:00-06:00                  NaN   \n",
              "\n",
              "                           Total_cloud_cover_entire_atmosphere_single_layer  \\\n",
              "2023-06-10 06:00:00-06:00                                              81.0   \n",
              "2023-06-10 07:00:00-06:00                                             100.0   \n",
              "2023-06-10 08:00:00-06:00                                             100.0   \n",
              "2023-06-10 09:00:00-06:00                                             100.0   \n",
              "2023-06-10 10:00:00-06:00                                              97.0   \n",
              "2023-06-10 11:00:00-06:00                                              26.0   \n",
              "2023-06-10 12:00:00-06:00                                               3.0   \n",
              "2023-06-10 13:00:00-06:00                                               2.0   \n",
              "2023-06-10 14:00:00-06:00                                               2.0   \n",
              "2023-06-10 15:00:00-06:00                                               4.0   \n",
              "2023-06-10 16:00:00-06:00                                              21.0   \n",
              "2023-06-10 17:00:00-06:00                                              10.0   \n",
              "2023-06-10 18:00:00-06:00                                              16.0   \n",
              "2023-06-10 19:00:00-06:00                                               NaN   \n",
              "2023-06-10 20:00:00-06:00                                               NaN   \n",
              "2023-06-10 21:00:00-06:00                                              32.0   \n",
              "2023-06-10 22:00:00-06:00                                               NaN   \n",
              "2023-06-10 23:00:00-06:00                                               NaN   \n",
              "2023-06-11 00:00:00-06:00                                               0.0   \n",
              "2023-06-11 01:00:00-06:00                                               NaN   \n",
              "2023-06-11 02:00:00-06:00                                               NaN   \n",
              "2023-06-11 03:00:00-06:00                                              87.0   \n",
              "2023-06-11 04:00:00-06:00                                               NaN   \n",
              "2023-06-11 05:00:00-06:00                                               NaN   \n",
              "\n",
              "                           Wind_speed_gust_surface  \n",
              "2023-06-10 06:00:00-06:00                 4.900000  \n",
              "2023-06-10 07:00:00-06:00                 6.504010  \n",
              "2023-06-10 08:00:00-06:00                 6.943854  \n",
              "2023-06-10 09:00:00-06:00                 7.022947  \n",
              "2023-06-10 10:00:00-06:00                 6.810605  \n",
              "2023-06-10 11:00:00-06:00                 6.387464  \n",
              "2023-06-10 12:00:00-06:00                 6.420111  \n",
              "2023-06-10 13:00:00-06:00                 6.608628  \n",
              "2023-06-10 14:00:00-06:00                 6.622229  \n",
              "2023-06-10 15:00:00-06:00                 6.514937  \n",
              "2023-06-10 16:00:00-06:00                 6.280605  \n",
              "2023-06-10 17:00:00-06:00                 6.764624  \n",
              "2023-06-10 18:00:00-06:00                 6.811949  \n",
              "2023-06-10 19:00:00-06:00                      NaN  \n",
              "2023-06-10 20:00:00-06:00                      NaN  \n",
              "2023-06-10 21:00:00-06:00                 8.180519  \n",
              "2023-06-10 22:00:00-06:00                      NaN  \n",
              "2023-06-10 23:00:00-06:00                      NaN  \n",
              "2023-06-11 00:00:00-06:00                12.919729  \n",
              "2023-06-11 01:00:00-06:00                      NaN  \n",
              "2023-06-11 02:00:00-06:00                      NaN  \n",
              "2023-06-11 03:00:00-06:00                 6.635914  \n",
              "2023-06-11 04:00:00-06:00                      NaN  \n",
              "2023-06-11 05:00:00-06:00                      NaN  "
            ],
            "text/html": [
              "\n",
              "  <div id=\"df-ebbc639d-9fc8-4a63-9a9d-ec19c39495d4\">\n",
              "    <div class=\"colab-df-container\">\n",
              "      <div>\n",
              "<style scoped>\n",
              "    .dataframe tbody tr th:only-of-type {\n",
              "        vertical-align: middle;\n",
              "    }\n",
              "\n",
              "    .dataframe tbody tr th {\n",
              "        vertical-align: top;\n",
              "    }\n",
              "\n",
              "    .dataframe thead th {\n",
              "        text-align: right;\n",
              "    }\n",
              "</style>\n",
              "<table border=\"1\" class=\"dataframe\">\n",
              "  <thead>\n",
              "    <tr style=\"text-align: right;\">\n",
              "      <th></th>\n",
              "      <th>Downward_Short-Wave_Radiation_Flux_surface</th>\n",
              "      <th>High_cloud_cover_high_cloud</th>\n",
              "      <th>Low_cloud_cover_low_cloud</th>\n",
              "      <th>Medium_cloud_cover_middle_cloud</th>\n",
              "      <th>Temperature_surface</th>\n",
              "      <th>Total_cloud_cover_entire_atmosphere_single_layer</th>\n",
              "      <th>Wind_speed_gust_surface</th>\n",
              "    </tr>\n",
              "  </thead>\n",
              "  <tbody>\n",
              "    <tr>\n",
              "      <th>2023-06-10 06:00:00-06:00</th>\n",
              "      <td>7.000000</td>\n",
              "      <td>0.0</td>\n",
              "      <td>80.0</td>\n",
              "      <td>62.0</td>\n",
              "      <td>289.018463</td>\n",
              "      <td>81.0</td>\n",
              "      <td>4.900000</td>\n",
              "    </tr>\n",
              "    <tr>\n",
              "      <th>2023-06-10 07:00:00-06:00</th>\n",
              "      <td>12.000000</td>\n",
              "      <td>0.0</td>\n",
              "      <td>100.0</td>\n",
              "      <td>68.0</td>\n",
              "      <td>289.059662</td>\n",
              "      <td>100.0</td>\n",
              "      <td>6.504010</td>\n",
              "    </tr>\n",
              "    <tr>\n",
              "      <th>2023-06-10 08:00:00-06:00</th>\n",
              "      <td>96.000000</td>\n",
              "      <td>0.0</td>\n",
              "      <td>100.0</td>\n",
              "      <td>13.0</td>\n",
              "      <td>290.209656</td>\n",
              "      <td>100.0</td>\n",
              "      <td>6.943854</td>\n",
              "    </tr>\n",
              "    <tr>\n",
              "      <th>2023-06-10 09:00:00-06:00</th>\n",
              "      <td>100.000000</td>\n",
              "      <td>0.0</td>\n",
              "      <td>100.0</td>\n",
              "      <td>28.0</td>\n",
              "      <td>290.969666</td>\n",
              "      <td>100.0</td>\n",
              "      <td>7.022947</td>\n",
              "    </tr>\n",
              "    <tr>\n",
              "      <th>2023-06-10 10:00:00-06:00</th>\n",
              "      <td>385.690735</td>\n",
              "      <td>0.0</td>\n",
              "      <td>97.0</td>\n",
              "      <td>22.0</td>\n",
              "      <td>293.229675</td>\n",
              "      <td>97.0</td>\n",
              "      <td>6.810605</td>\n",
              "    </tr>\n",
              "    <tr>\n",
              "      <th>2023-06-10 11:00:00-06:00</th>\n",
              "      <td>722.535461</td>\n",
              "      <td>0.0</td>\n",
              "      <td>25.0</td>\n",
              "      <td>15.0</td>\n",
              "      <td>300.109680</td>\n",
              "      <td>26.0</td>\n",
              "      <td>6.387464</td>\n",
              "    </tr>\n",
              "    <tr>\n",
              "      <th>2023-06-10 12:00:00-06:00</th>\n",
              "      <td>820.931030</td>\n",
              "      <td>0.0</td>\n",
              "      <td>2.0</td>\n",
              "      <td>3.0</td>\n",
              "      <td>302.769653</td>\n",
              "      <td>3.0</td>\n",
              "      <td>6.420111</td>\n",
              "    </tr>\n",
              "    <tr>\n",
              "      <th>2023-06-10 13:00:00-06:00</th>\n",
              "      <td>898.002014</td>\n",
              "      <td>0.0</td>\n",
              "      <td>2.0</td>\n",
              "      <td>2.0</td>\n",
              "      <td>305.329681</td>\n",
              "      <td>2.0</td>\n",
              "      <td>6.608628</td>\n",
              "    </tr>\n",
              "    <tr>\n",
              "      <th>2023-06-10 14:00:00-06:00</th>\n",
              "      <td>884.263367</td>\n",
              "      <td>0.0</td>\n",
              "      <td>0.0</td>\n",
              "      <td>2.0</td>\n",
              "      <td>306.199677</td>\n",
              "      <td>2.0</td>\n",
              "      <td>6.622229</td>\n",
              "    </tr>\n",
              "    <tr>\n",
              "      <th>2023-06-10 15:00:00-06:00</th>\n",
              "      <td>821.316345</td>\n",
              "      <td>1.0</td>\n",
              "      <td>0.0</td>\n",
              "      <td>4.0</td>\n",
              "      <td>306.059662</td>\n",
              "      <td>4.0</td>\n",
              "      <td>6.514937</td>\n",
              "    </tr>\n",
              "    <tr>\n",
              "      <th>2023-06-10 16:00:00-06:00</th>\n",
              "      <td>787.033203</td>\n",
              "      <td>21.0</td>\n",
              "      <td>0.0</td>\n",
              "      <td>17.0</td>\n",
              "      <td>306.279663</td>\n",
              "      <td>21.0</td>\n",
              "      <td>6.280605</td>\n",
              "    </tr>\n",
              "    <tr>\n",
              "      <th>2023-06-10 17:00:00-06:00</th>\n",
              "      <td>663.000000</td>\n",
              "      <td>7.0</td>\n",
              "      <td>0.0</td>\n",
              "      <td>8.0</td>\n",
              "      <td>304.969666</td>\n",
              "      <td>10.0</td>\n",
              "      <td>6.764624</td>\n",
              "    </tr>\n",
              "    <tr>\n",
              "      <th>2023-06-10 18:00:00-06:00</th>\n",
              "      <td>509.000000</td>\n",
              "      <td>0.0</td>\n",
              "      <td>0.0</td>\n",
              "      <td>16.0</td>\n",
              "      <td>303.409668</td>\n",
              "      <td>16.0</td>\n",
              "      <td>6.811949</td>\n",
              "    </tr>\n",
              "    <tr>\n",
              "      <th>2023-06-10 19:00:00-06:00</th>\n",
              "      <td>NaN</td>\n",
              "      <td>NaN</td>\n",
              "      <td>NaN</td>\n",
              "      <td>NaN</td>\n",
              "      <td>NaN</td>\n",
              "      <td>NaN</td>\n",
              "      <td>NaN</td>\n",
              "    </tr>\n",
              "    <tr>\n",
              "      <th>2023-06-10 20:00:00-06:00</th>\n",
              "      <td>NaN</td>\n",
              "      <td>NaN</td>\n",
              "      <td>NaN</td>\n",
              "      <td>NaN</td>\n",
              "      <td>NaN</td>\n",
              "      <td>NaN</td>\n",
              "      <td>NaN</td>\n",
              "    </tr>\n",
              "    <tr>\n",
              "      <th>2023-06-10 21:00:00-06:00</th>\n",
              "      <td>37.700001</td>\n",
              "      <td>4.0</td>\n",
              "      <td>0.0</td>\n",
              "      <td>32.0</td>\n",
              "      <td>296.160431</td>\n",
              "      <td>32.0</td>\n",
              "      <td>8.180519</td>\n",
              "    </tr>\n",
              "    <tr>\n",
              "      <th>2023-06-10 22:00:00-06:00</th>\n",
              "      <td>NaN</td>\n",
              "      <td>NaN</td>\n",
              "      <td>NaN</td>\n",
              "      <td>NaN</td>\n",
              "      <td>NaN</td>\n",
              "      <td>NaN</td>\n",
              "      <td>NaN</td>\n",
              "    </tr>\n",
              "    <tr>\n",
              "      <th>2023-06-10 23:00:00-06:00</th>\n",
              "      <td>NaN</td>\n",
              "      <td>NaN</td>\n",
              "      <td>NaN</td>\n",
              "      <td>NaN</td>\n",
              "      <td>NaN</td>\n",
              "      <td>NaN</td>\n",
              "      <td>NaN</td>\n",
              "    </tr>\n",
              "    <tr>\n",
              "      <th>2023-06-11 00:00:00-06:00</th>\n",
              "      <td>0.000000</td>\n",
              "      <td>0.0</td>\n",
              "      <td>0.0</td>\n",
              "      <td>0.0</td>\n",
              "      <td>291.701782</td>\n",
              "      <td>0.0</td>\n",
              "      <td>12.919729</td>\n",
              "    </tr>\n",
              "    <tr>\n",
              "      <th>2023-06-11 01:00:00-06:00</th>\n",
              "      <td>NaN</td>\n",
              "      <td>NaN</td>\n",
              "      <td>NaN</td>\n",
              "      <td>NaN</td>\n",
              "      <td>NaN</td>\n",
              "      <td>NaN</td>\n",
              "      <td>NaN</td>\n",
              "    </tr>\n",
              "    <tr>\n",
              "      <th>2023-06-11 02:00:00-06:00</th>\n",
              "      <td>NaN</td>\n",
              "      <td>NaN</td>\n",
              "      <td>NaN</td>\n",
              "      <td>NaN</td>\n",
              "      <td>NaN</td>\n",
              "      <td>NaN</td>\n",
              "      <td>NaN</td>\n",
              "    </tr>\n",
              "    <tr>\n",
              "      <th>2023-06-11 03:00:00-06:00</th>\n",
              "      <td>0.000000</td>\n",
              "      <td>87.0</td>\n",
              "      <td>0.0</td>\n",
              "      <td>0.0</td>\n",
              "      <td>289.191925</td>\n",
              "      <td>87.0</td>\n",
              "      <td>6.635914</td>\n",
              "    </tr>\n",
              "    <tr>\n",
              "      <th>2023-06-11 04:00:00-06:00</th>\n",
              "      <td>NaN</td>\n",
              "      <td>NaN</td>\n",
              "      <td>NaN</td>\n",
              "      <td>NaN</td>\n",
              "      <td>NaN</td>\n",
              "      <td>NaN</td>\n",
              "      <td>NaN</td>\n",
              "    </tr>\n",
              "    <tr>\n",
              "      <th>2023-06-11 05:00:00-06:00</th>\n",
              "      <td>NaN</td>\n",
              "      <td>NaN</td>\n",
              "      <td>NaN</td>\n",
              "      <td>NaN</td>\n",
              "      <td>NaN</td>\n",
              "      <td>NaN</td>\n",
              "      <td>NaN</td>\n",
              "    </tr>\n",
              "  </tbody>\n",
              "</table>\n",
              "</div>\n",
              "      <button class=\"colab-df-convert\" onclick=\"convertToInteractive('df-ebbc639d-9fc8-4a63-9a9d-ec19c39495d4')\"\n",
              "              title=\"Convert this dataframe to an interactive table.\"\n",
              "              style=\"display:none;\">\n",
              "        \n",
              "  <svg xmlns=\"http://www.w3.org/2000/svg\" height=\"24px\"viewBox=\"0 0 24 24\"\n",
              "       width=\"24px\">\n",
              "    <path d=\"M0 0h24v24H0V0z\" fill=\"none\"/>\n",
              "    <path d=\"M18.56 5.44l.94 2.06.94-2.06 2.06-.94-2.06-.94-.94-2.06-.94 2.06-2.06.94zm-11 1L8.5 8.5l.94-2.06 2.06-.94-2.06-.94L8.5 2.5l-.94 2.06-2.06.94zm10 10l.94 2.06.94-2.06 2.06-.94-2.06-.94-.94-2.06-.94 2.06-2.06.94z\"/><path d=\"M17.41 7.96l-1.37-1.37c-.4-.4-.92-.59-1.43-.59-.52 0-1.04.2-1.43.59L10.3 9.45l-7.72 7.72c-.78.78-.78 2.05 0 2.83L4 21.41c.39.39.9.59 1.41.59.51 0 1.02-.2 1.41-.59l7.78-7.78 2.81-2.81c.8-.78.8-2.07 0-2.86zM5.41 20L4 18.59l7.72-7.72 1.47 1.35L5.41 20z\"/>\n",
              "  </svg>\n",
              "      </button>\n",
              "      \n",
              "  <style>\n",
              "    .colab-df-container {\n",
              "      display:flex;\n",
              "      flex-wrap:wrap;\n",
              "      gap: 12px;\n",
              "    }\n",
              "\n",
              "    .colab-df-convert {\n",
              "      background-color: #E8F0FE;\n",
              "      border: none;\n",
              "      border-radius: 50%;\n",
              "      cursor: pointer;\n",
              "      display: none;\n",
              "      fill: #1967D2;\n",
              "      height: 32px;\n",
              "      padding: 0 0 0 0;\n",
              "      width: 32px;\n",
              "    }\n",
              "\n",
              "    .colab-df-convert:hover {\n",
              "      background-color: #E2EBFA;\n",
              "      box-shadow: 0px 1px 2px rgba(60, 64, 67, 0.3), 0px 1px 3px 1px rgba(60, 64, 67, 0.15);\n",
              "      fill: #174EA6;\n",
              "    }\n",
              "\n",
              "    [theme=dark] .colab-df-convert {\n",
              "      background-color: #3B4455;\n",
              "      fill: #D2E3FC;\n",
              "    }\n",
              "\n",
              "    [theme=dark] .colab-df-convert:hover {\n",
              "      background-color: #434B5C;\n",
              "      box-shadow: 0px 1px 3px 1px rgba(0, 0, 0, 0.15);\n",
              "      filter: drop-shadow(0px 1px 2px rgba(0, 0, 0, 0.3));\n",
              "      fill: #FFFFFF;\n",
              "    }\n",
              "  </style>\n",
              "\n",
              "      <script>\n",
              "        const buttonEl =\n",
              "          document.querySelector('#df-ebbc639d-9fc8-4a63-9a9d-ec19c39495d4 button.colab-df-convert');\n",
              "        buttonEl.style.display =\n",
              "          google.colab.kernel.accessAllowed ? 'block' : 'none';\n",
              "\n",
              "        async function convertToInteractive(key) {\n",
              "          const element = document.querySelector('#df-ebbc639d-9fc8-4a63-9a9d-ec19c39495d4');\n",
              "          const dataTable =\n",
              "            await google.colab.kernel.invokeFunction('convertToInteractive',\n",
              "                                                     [key], {});\n",
              "          if (!dataTable) return;\n",
              "\n",
              "          const docLinkHtml = 'Like what you see? Visit the ' +\n",
              "            '<a target=\"_blank\" href=https://colab.research.google.com/notebooks/data_table.ipynb>data table notebook</a>'\n",
              "            + ' to learn more about interactive tables.';\n",
              "          element.innerHTML = '';\n",
              "          dataTable['output_type'] = 'display_data';\n",
              "          await google.colab.output.renderOutput(dataTable, element);\n",
              "          const docLink = document.createElement('div');\n",
              "          docLink.innerHTML = docLinkHtml;\n",
              "          element.appendChild(docLink);\n",
              "        }\n",
              "      </script>\n",
              "    </div>\n",
              "  </div>\n",
              "  "
            ]
          },
          "metadata": {},
          "execution_count": 122
        }
      ],
      "source": [
        "data[sorted(data.columns)]"
      ]
    },
    {
      "cell_type": "code",
      "execution_count": null,
      "metadata": {
        "id": "H071HWTtwA6i"
      },
      "outputs": [],
      "source": [
        "data = fm.process_data(data)"
      ]
    },
    {
      "cell_type": "code",
      "source": [
        "import pandas as pd\n",
        "pd.set_option('display.max_rows', None)"
      ],
      "metadata": {
        "id": "qSfyuD53X31N"
      },
      "execution_count": null,
      "outputs": []
    },
    {
      "cell_type": "code",
      "source": [
        "len(data)"
      ],
      "metadata": {
        "colab": {
          "base_uri": "https://localhost:8080/"
        },
        "id": "vW8fAm0aa6PH",
        "outputId": "b8843ba8-3392-4892-c030-b36b2446c1c7"
      },
      "execution_count": null,
      "outputs": [
        {
          "output_type": "execute_result",
          "data": {
            "text/plain": [
              "24"
            ]
          },
          "metadata": {},
          "execution_count": 125
        }
      ]
    },
    {
      "cell_type": "code",
      "source": [
        "data[['ghi', 'dni', 'dhi']]"
      ],
      "metadata": {
        "colab": {
          "base_uri": "https://localhost:8080/",
          "height": 802
        },
        "id": "7hjI8TUHYbtF",
        "outputId": "04df41c5-d0b1-450c-faf4-bc4ffb69b514"
      },
      "execution_count": null,
      "outputs": [
        {
          "output_type": "execute_result",
          "data": {
            "text/plain": [
              "                                  ghi         dni         dhi\n",
              "2023-06-10 06:00:00-06:00    8.635050    0.000000    8.635050\n",
              "2023-06-10 07:00:00-06:00   48.498294    0.000000   48.498294\n",
              "2023-06-10 08:00:00-06:00  104.064681    0.000000  104.064681\n",
              "2023-06-10 09:00:00-06:00  160.799079    3.339879  159.090613\n",
              "2023-06-10 10:00:00-06:00  224.789663   13.674660  215.980813\n",
              "2023-06-10 11:00:00-06:00  608.439528  406.663993  301.956565\n",
              "2023-06-10 12:00:00-06:00  805.657768  720.349199  205.956486\n",
              "2023-06-10 13:00:00-06:00  859.110055  732.020713  218.304071\n",
              "2023-06-10 14:00:00-06:00  863.574557  731.378991  220.421839\n",
              "2023-06-10 15:00:00-06:00  813.226556  700.990640  221.465455\n",
              "2023-06-10 16:00:00-06:00  650.415880  482.543857  277.785586\n",
              "2023-06-10 17:00:00-06:00  594.390837  622.773371  178.126659\n",
              "2023-06-10 18:00:00-06:00  439.967474  513.116835  162.983931\n",
              "2023-06-10 19:00:00-06:00    0.000000    0.000000    0.000000\n",
              "2023-06-10 20:00:00-06:00    0.000000    0.000000    0.000000\n",
              "2023-06-10 21:00:00-06:00   28.515279    0.000000   28.515279\n",
              "2023-06-10 22:00:00-06:00    0.000000    0.000000    0.000000\n",
              "2023-06-10 23:00:00-06:00    0.000000    0.000000    0.000000\n",
              "2023-06-11 00:00:00-06:00    0.000000    0.000000    0.000000\n",
              "2023-06-11 01:00:00-06:00    0.000000    0.000000    0.000000\n",
              "2023-06-11 02:00:00-06:00    0.000000    0.000000    0.000000\n",
              "2023-06-11 03:00:00-06:00    0.000000    0.000000    0.000000\n",
              "2023-06-11 04:00:00-06:00    0.000000    0.000000    0.000000\n",
              "2023-06-11 05:00:00-06:00    0.000000    0.000000    0.000000"
            ],
            "text/html": [
              "\n",
              "  <div id=\"df-9ea9e97f-9337-4af0-a446-833de09b885f\">\n",
              "    <div class=\"colab-df-container\">\n",
              "      <div>\n",
              "<style scoped>\n",
              "    .dataframe tbody tr th:only-of-type {\n",
              "        vertical-align: middle;\n",
              "    }\n",
              "\n",
              "    .dataframe tbody tr th {\n",
              "        vertical-align: top;\n",
              "    }\n",
              "\n",
              "    .dataframe thead th {\n",
              "        text-align: right;\n",
              "    }\n",
              "</style>\n",
              "<table border=\"1\" class=\"dataframe\">\n",
              "  <thead>\n",
              "    <tr style=\"text-align: right;\">\n",
              "      <th></th>\n",
              "      <th>ghi</th>\n",
              "      <th>dni</th>\n",
              "      <th>dhi</th>\n",
              "    </tr>\n",
              "  </thead>\n",
              "  <tbody>\n",
              "    <tr>\n",
              "      <th>2023-06-10 06:00:00-06:00</th>\n",
              "      <td>8.635050</td>\n",
              "      <td>0.000000</td>\n",
              "      <td>8.635050</td>\n",
              "    </tr>\n",
              "    <tr>\n",
              "      <th>2023-06-10 07:00:00-06:00</th>\n",
              "      <td>48.498294</td>\n",
              "      <td>0.000000</td>\n",
              "      <td>48.498294</td>\n",
              "    </tr>\n",
              "    <tr>\n",
              "      <th>2023-06-10 08:00:00-06:00</th>\n",
              "      <td>104.064681</td>\n",
              "      <td>0.000000</td>\n",
              "      <td>104.064681</td>\n",
              "    </tr>\n",
              "    <tr>\n",
              "      <th>2023-06-10 09:00:00-06:00</th>\n",
              "      <td>160.799079</td>\n",
              "      <td>3.339879</td>\n",
              "      <td>159.090613</td>\n",
              "    </tr>\n",
              "    <tr>\n",
              "      <th>2023-06-10 10:00:00-06:00</th>\n",
              "      <td>224.789663</td>\n",
              "      <td>13.674660</td>\n",
              "      <td>215.980813</td>\n",
              "    </tr>\n",
              "    <tr>\n",
              "      <th>2023-06-10 11:00:00-06:00</th>\n",
              "      <td>608.439528</td>\n",
              "      <td>406.663993</td>\n",
              "      <td>301.956565</td>\n",
              "    </tr>\n",
              "    <tr>\n",
              "      <th>2023-06-10 12:00:00-06:00</th>\n",
              "      <td>805.657768</td>\n",
              "      <td>720.349199</td>\n",
              "      <td>205.956486</td>\n",
              "    </tr>\n",
              "    <tr>\n",
              "      <th>2023-06-10 13:00:00-06:00</th>\n",
              "      <td>859.110055</td>\n",
              "      <td>732.020713</td>\n",
              "      <td>218.304071</td>\n",
              "    </tr>\n",
              "    <tr>\n",
              "      <th>2023-06-10 14:00:00-06:00</th>\n",
              "      <td>863.574557</td>\n",
              "      <td>731.378991</td>\n",
              "      <td>220.421839</td>\n",
              "    </tr>\n",
              "    <tr>\n",
              "      <th>2023-06-10 15:00:00-06:00</th>\n",
              "      <td>813.226556</td>\n",
              "      <td>700.990640</td>\n",
              "      <td>221.465455</td>\n",
              "    </tr>\n",
              "    <tr>\n",
              "      <th>2023-06-10 16:00:00-06:00</th>\n",
              "      <td>650.415880</td>\n",
              "      <td>482.543857</td>\n",
              "      <td>277.785586</td>\n",
              "    </tr>\n",
              "    <tr>\n",
              "      <th>2023-06-10 17:00:00-06:00</th>\n",
              "      <td>594.390837</td>\n",
              "      <td>622.773371</td>\n",
              "      <td>178.126659</td>\n",
              "    </tr>\n",
              "    <tr>\n",
              "      <th>2023-06-10 18:00:00-06:00</th>\n",
              "      <td>439.967474</td>\n",
              "      <td>513.116835</td>\n",
              "      <td>162.983931</td>\n",
              "    </tr>\n",
              "    <tr>\n",
              "      <th>2023-06-10 19:00:00-06:00</th>\n",
              "      <td>0.000000</td>\n",
              "      <td>0.000000</td>\n",
              "      <td>0.000000</td>\n",
              "    </tr>\n",
              "    <tr>\n",
              "      <th>2023-06-10 20:00:00-06:00</th>\n",
              "      <td>0.000000</td>\n",
              "      <td>0.000000</td>\n",
              "      <td>0.000000</td>\n",
              "    </tr>\n",
              "    <tr>\n",
              "      <th>2023-06-10 21:00:00-06:00</th>\n",
              "      <td>28.515279</td>\n",
              "      <td>0.000000</td>\n",
              "      <td>28.515279</td>\n",
              "    </tr>\n",
              "    <tr>\n",
              "      <th>2023-06-10 22:00:00-06:00</th>\n",
              "      <td>0.000000</td>\n",
              "      <td>0.000000</td>\n",
              "      <td>0.000000</td>\n",
              "    </tr>\n",
              "    <tr>\n",
              "      <th>2023-06-10 23:00:00-06:00</th>\n",
              "      <td>0.000000</td>\n",
              "      <td>0.000000</td>\n",
              "      <td>0.000000</td>\n",
              "    </tr>\n",
              "    <tr>\n",
              "      <th>2023-06-11 00:00:00-06:00</th>\n",
              "      <td>0.000000</td>\n",
              "      <td>0.000000</td>\n",
              "      <td>0.000000</td>\n",
              "    </tr>\n",
              "    <tr>\n",
              "      <th>2023-06-11 01:00:00-06:00</th>\n",
              "      <td>0.000000</td>\n",
              "      <td>0.000000</td>\n",
              "      <td>0.000000</td>\n",
              "    </tr>\n",
              "    <tr>\n",
              "      <th>2023-06-11 02:00:00-06:00</th>\n",
              "      <td>0.000000</td>\n",
              "      <td>0.000000</td>\n",
              "      <td>0.000000</td>\n",
              "    </tr>\n",
              "    <tr>\n",
              "      <th>2023-06-11 03:00:00-06:00</th>\n",
              "      <td>0.000000</td>\n",
              "      <td>0.000000</td>\n",
              "      <td>0.000000</td>\n",
              "    </tr>\n",
              "    <tr>\n",
              "      <th>2023-06-11 04:00:00-06:00</th>\n",
              "      <td>0.000000</td>\n",
              "      <td>0.000000</td>\n",
              "      <td>0.000000</td>\n",
              "    </tr>\n",
              "    <tr>\n",
              "      <th>2023-06-11 05:00:00-06:00</th>\n",
              "      <td>0.000000</td>\n",
              "      <td>0.000000</td>\n",
              "      <td>0.000000</td>\n",
              "    </tr>\n",
              "  </tbody>\n",
              "</table>\n",
              "</div>\n",
              "      <button class=\"colab-df-convert\" onclick=\"convertToInteractive('df-9ea9e97f-9337-4af0-a446-833de09b885f')\"\n",
              "              title=\"Convert this dataframe to an interactive table.\"\n",
              "              style=\"display:none;\">\n",
              "        \n",
              "  <svg xmlns=\"http://www.w3.org/2000/svg\" height=\"24px\"viewBox=\"0 0 24 24\"\n",
              "       width=\"24px\">\n",
              "    <path d=\"M0 0h24v24H0V0z\" fill=\"none\"/>\n",
              "    <path d=\"M18.56 5.44l.94 2.06.94-2.06 2.06-.94-2.06-.94-.94-2.06-.94 2.06-2.06.94zm-11 1L8.5 8.5l.94-2.06 2.06-.94-2.06-.94L8.5 2.5l-.94 2.06-2.06.94zm10 10l.94 2.06.94-2.06 2.06-.94-2.06-.94-.94-2.06-.94 2.06-2.06.94z\"/><path d=\"M17.41 7.96l-1.37-1.37c-.4-.4-.92-.59-1.43-.59-.52 0-1.04.2-1.43.59L10.3 9.45l-7.72 7.72c-.78.78-.78 2.05 0 2.83L4 21.41c.39.39.9.59 1.41.59.51 0 1.02-.2 1.41-.59l7.78-7.78 2.81-2.81c.8-.78.8-2.07 0-2.86zM5.41 20L4 18.59l7.72-7.72 1.47 1.35L5.41 20z\"/>\n",
              "  </svg>\n",
              "      </button>\n",
              "      \n",
              "  <style>\n",
              "    .colab-df-container {\n",
              "      display:flex;\n",
              "      flex-wrap:wrap;\n",
              "      gap: 12px;\n",
              "    }\n",
              "\n",
              "    .colab-df-convert {\n",
              "      background-color: #E8F0FE;\n",
              "      border: none;\n",
              "      border-radius: 50%;\n",
              "      cursor: pointer;\n",
              "      display: none;\n",
              "      fill: #1967D2;\n",
              "      height: 32px;\n",
              "      padding: 0 0 0 0;\n",
              "      width: 32px;\n",
              "    }\n",
              "\n",
              "    .colab-df-convert:hover {\n",
              "      background-color: #E2EBFA;\n",
              "      box-shadow: 0px 1px 2px rgba(60, 64, 67, 0.3), 0px 1px 3px 1px rgba(60, 64, 67, 0.15);\n",
              "      fill: #174EA6;\n",
              "    }\n",
              "\n",
              "    [theme=dark] .colab-df-convert {\n",
              "      background-color: #3B4455;\n",
              "      fill: #D2E3FC;\n",
              "    }\n",
              "\n",
              "    [theme=dark] .colab-df-convert:hover {\n",
              "      background-color: #434B5C;\n",
              "      box-shadow: 0px 1px 3px 1px rgba(0, 0, 0, 0.15);\n",
              "      filter: drop-shadow(0px 1px 2px rgba(0, 0, 0, 0.3));\n",
              "      fill: #FFFFFF;\n",
              "    }\n",
              "  </style>\n",
              "\n",
              "      <script>\n",
              "        const buttonEl =\n",
              "          document.querySelector('#df-9ea9e97f-9337-4af0-a446-833de09b885f button.colab-df-convert');\n",
              "        buttonEl.style.display =\n",
              "          google.colab.kernel.accessAllowed ? 'block' : 'none';\n",
              "\n",
              "        async function convertToInteractive(key) {\n",
              "          const element = document.querySelector('#df-9ea9e97f-9337-4af0-a446-833de09b885f');\n",
              "          const dataTable =\n",
              "            await google.colab.kernel.invokeFunction('convertToInteractive',\n",
              "                                                     [key], {});\n",
              "          if (!dataTable) return;\n",
              "\n",
              "          const docLinkHtml = 'Like what you see? Visit the ' +\n",
              "            '<a target=\"_blank\" href=https://colab.research.google.com/notebooks/data_table.ipynb>data table notebook</a>'\n",
              "            + ' to learn more about interactive tables.';\n",
              "          element.innerHTML = '';\n",
              "          dataTable['output_type'] = 'display_data';\n",
              "          await google.colab.output.renderOutput(dataTable, element);\n",
              "          const docLink = document.createElement('div');\n",
              "          docLink.innerHTML = docLinkHtml;\n",
              "          element.appendChild(docLink);\n",
              "        }\n",
              "      </script>\n",
              "    </div>\n",
              "  </div>\n",
              "  "
            ]
          },
          "metadata": {},
          "execution_count": 126
        }
      ]
    },
    {
      "cell_type": "code",
      "source": [
        "data.to_csv('pvlib.csv', columns=['ghi', 'dni', 'dhi'])"
      ],
      "metadata": {
        "id": "KvX7HwrLnhbV"
      },
      "execution_count": null,
      "outputs": []
    },
    {
      "cell_type": "code",
      "execution_count": null,
      "metadata": {
        "colab": {
          "base_uri": "https://localhost:8080/",
          "height": 446
        },
        "id": "Xy6R9o9zwA6i",
        "outputId": "afd41b8f-64ee-4414-d7b7-7c79fec582b7"
      },
      "outputs": [
        {
          "output_type": "display_data",
          "data": {
            "text/plain": [
              "<Figure size 640x480 with 1 Axes>"
            ],
            "image/png": "[encoded data removed]"
          },
          "metadata": {}
        }
      ],
      "source": [
        "data[['ghi', 'dni', 'dhi']].plot();"
      ]
    },
    {
      "cell_type": "code",
      "execution_count": null,
      "metadata": {
        "id": "A4Ki2wyewA6j"
      },
      "outputs": [],
      "source": [
        "cs = fm.location.get_clearsky(data.index)"
      ]
    },
    {
      "cell_type": "code",
      "source": [
        "cs"
      ],
      "metadata": {
        "colab": {
          "base_uri": "https://localhost:8080/",
          "height": 802
        },
        "id": "eaQUTEUqgODF",
        "outputId": "fc8d01e7-5c0c-4ea0-ec49-70b8bffb0d28"
      },
      "execution_count": null,
      "outputs": [
        {
          "output_type": "execute_result",
          "data": {
            "text/plain": [
              "                                  ghi         dni         dhi\n",
              "2023-06-10 06:00:00-06:00   18.236643   93.940461   11.432100\n",
              "2023-06-10 07:00:00-06:00  138.566557  429.190283   46.233339\n",
              "2023-06-10 08:00:00-06:00  297.327665  626.212668   68.472162\n",
              "2023-06-10 09:00:00-06:00  459.425947  733.834816   83.734076\n",
              "2023-06-10 10:00:00-06:00  608.361772  796.482288   95.077101\n",
              "2023-06-10 11:00:00-06:00  732.177557  834.029046  103.469904\n",
              "2023-06-10 12:00:00-06:00  821.680553  855.756492  109.158066\n",
              "2023-06-10 13:00:00-06:00  870.425598  866.128262  112.154879\n",
              "2023-06-10 14:00:00-06:00  874.948903  867.045114  112.429835\n",
              "2023-06-10 15:00:00-06:00  834.934882  858.669006  109.979289\n",
              "2023-06-10 16:00:00-06:00  753.232057  839.489392  104.832238\n",
              "2023-06-10 17:00:00-06:00  635.712164  805.682885   96.994976\n",
              "2023-06-10 18:00:00-06:00  491.035112  749.254968   86.295143\n",
              "2023-06-10 19:00:00-06:00  330.560452  653.287265   71.981305\n",
              "2023-06-10 20:00:00-06:00  169.467067  480.032683   51.613283\n",
              "2023-06-10 21:00:00-06:00   36.004140  166.694429   19.282601\n",
              "2023-06-10 22:00:00-06:00    0.000000    0.000000    0.000000\n",
              "2023-06-10 23:00:00-06:00    0.000000    0.000000    0.000000\n",
              "2023-06-11 00:00:00-06:00    0.000000    0.000000    0.000000\n",
              "2023-06-11 01:00:00-06:00    0.000000    0.000000    0.000000\n",
              "2023-06-11 02:00:00-06:00    0.000000    0.000000    0.000000\n",
              "2023-06-11 03:00:00-06:00    0.000000    0.000000    0.000000\n",
              "2023-06-11 04:00:00-06:00    0.000000    0.000000    0.000000\n",
              "2023-06-11 05:00:00-06:00    0.000000    0.000000    0.000000"
            ],
            "text/html": [
              "\n",
              "  <div id=\"df-dca7636a-09c1-4280-a448-42e27ed10cf7\">\n",
              "    <div class=\"colab-df-container\">\n",
              "      <div>\n",
              "<style scoped>\n",
              "    .dataframe tbody tr th:only-of-type {\n",
              "        vertical-align: middle;\n",
              "    }\n",
              "\n",
              "    .dataframe tbody tr th {\n",
              "        vertical-align: top;\n",
              "    }\n",
              "\n",
              "    .dataframe thead th {\n",
              "        text-align: right;\n",
              "    }\n",
              "</style>\n",
              "<table border=\"1\" class=\"dataframe\">\n",
              "  <thead>\n",
              "    <tr style=\"text-align: right;\">\n",
              "      <th></th>\n",
              "      <th>ghi</th>\n",
              "      <th>dni</th>\n",
              "      <th>dhi</th>\n",
              "    </tr>\n",
              "  </thead>\n",
              "  <tbody>\n",
              "    <tr>\n",
              "      <th>2023-06-10 06:00:00-06:00</th>\n",
              "      <td>18.236643</td>\n",
              "      <td>93.940461</td>\n",
              "      <td>11.432100</td>\n",
              "    </tr>\n",
              "    <tr>\n",
              "      <th>2023-06-10 07:00:00-06:00</th>\n",
              "      <td>138.566557</td>\n",
              "      <td>429.190283</td>\n",
              "      <td>46.233339</td>\n",
              "    </tr>\n",
              "    <tr>\n",
              "      <th>2023-06-10 08:00:00-06:00</th>\n",
              "      <td>297.327665</td>\n",
              "      <td>626.212668</td>\n",
              "      <td>68.472162</td>\n",
              "    </tr>\n",
              "    <tr>\n",
              "      <th>2023-06-10 09:00:00-06:00</th>\n",
              "      <td>459.425947</td>\n",
              "      <td>733.834816</td>\n",
              "      <td>83.734076</td>\n",
              "    </tr>\n",
              "    <tr>\n",
              "      <th>2023-06-10 10:00:00-06:00</th>\n",
              "      <td>608.361772</td>\n",
              "      <td>796.482288</td>\n",
              "      <td>95.077101</td>\n",
              "    </tr>\n",
              "    <tr>\n",
              "      <th>2023-06-10 11:00:00-06:00</th>\n",
              "      <td>732.177557</td>\n",
              "      <td>834.029046</td>\n",
              "      <td>103.469904</td>\n",
              "    </tr>\n",
              "    <tr>\n",
              "      <th>2023-06-10 12:00:00-06:00</th>\n",
              "      <td>821.680553</td>\n",
              "      <td>855.756492</td>\n",
              "      <td>109.158066</td>\n",
              "    </tr>\n",
              "    <tr>\n",
              "      <th>2023-06-10 13:00:00-06:00</th>\n",
              "      <td>870.425598</td>\n",
              "      <td>866.128262</td>\n",
              "      <td>112.154879</td>\n",
              "    </tr>\n",
              "    <tr>\n",
              "      <th>2023-06-10 14:00:00-06:00</th>\n",
              "      <td>874.948903</td>\n",
              "      <td>867.045114</td>\n",
              "      <td>112.429835</td>\n",
              "    </tr>\n",
              "    <tr>\n",
              "      <th>2023-06-10 15:00:00-06:00</th>\n",
              "      <td>834.934882</td>\n",
              "      <td>858.669006</td>\n",
              "      <td>109.979289</td>\n",
              "    </tr>\n",
              "    <tr>\n",
              "      <th>2023-06-10 16:00:00-06:00</th>\n",
              "      <td>753.232057</td>\n",
              "      <td>839.489392</td>\n",
              "      <td>104.832238</td>\n",
              "    </tr>\n",
              "    <tr>\n",
              "      <th>2023-06-10 17:00:00-06:00</th>\n",
              "      <td>635.712164</td>\n",
              "      <td>805.682885</td>\n",
              "      <td>96.994976</td>\n",
              "    </tr>\n",
              "    <tr>\n",
              "      <th>2023-06-10 18:00:00-06:00</th>\n",
              "      <td>491.035112</td>\n",
              "      <td>749.254968</td>\n",
              "      <td>86.295143</td>\n",
              "    </tr>\n",
              "    <tr>\n",
              "      <th>2023-06-10 19:00:00-06:00</th>\n",
              "      <td>330.560452</td>\n",
              "      <td>653.287265</td>\n",
              "      <td>71.981305</td>\n",
              "    </tr>\n",
              "    <tr>\n",
              "      <th>2023-06-10 20:00:00-06:00</th>\n",
              "      <td>169.467067</td>\n",
              "      <td>480.032683</td>\n",
              "      <td>51.613283</td>\n",
              "    </tr>\n",
              "    <tr>\n",
              "      <th>2023-06-10 21:00:00-06:00</th>\n",
              "      <td>36.004140</td>\n",
              "      <td>166.694429</td>\n",
              "      <td>19.282601</td>\n",
              "    </tr>\n",
              "    <tr>\n",
              "      <th>2023-06-10 22:00:00-06:00</th>\n",
              "      <td>0.000000</td>\n",
              "      <td>0.000000</td>\n",
              "      <td>0.000000</td>\n",
              "    </tr>\n",
              "    <tr>\n",
              "      <th>2023-06-10 23:00:00-06:00</th>\n",
              "      <td>0.000000</td>\n",
              "      <td>0.000000</td>\n",
              "      <td>0.000000</td>\n",
              "    </tr>\n",
              "    <tr>\n",
              "      <th>2023-06-11 00:00:00-06:00</th>\n",
              "      <td>0.000000</td>\n",
              "      <td>0.000000</td>\n",
              "      <td>0.000000</td>\n",
              "    </tr>\n",
              "    <tr>\n",
              "      <th>2023-06-11 01:00:00-06:00</th>\n",
              "      <td>0.000000</td>\n",
              "      <td>0.000000</td>\n",
              "      <td>0.000000</td>\n",
              "    </tr>\n",
              "    <tr>\n",
              "      <th>2023-06-11 02:00:00-06:00</th>\n",
              "      <td>0.000000</td>\n",
              "      <td>0.000000</td>\n",
              "      <td>0.000000</td>\n",
              "    </tr>\n",
              "    <tr>\n",
              "      <th>2023-06-11 03:00:00-06:00</th>\n",
              "      <td>0.000000</td>\n",
              "      <td>0.000000</td>\n",
              "      <td>0.000000</td>\n",
              "    </tr>\n",
              "    <tr>\n",
              "      <th>2023-06-11 04:00:00-06:00</th>\n",
              "      <td>0.000000</td>\n",
              "      <td>0.000000</td>\n",
              "      <td>0.000000</td>\n",
              "    </tr>\n",
              "    <tr>\n",
              "      <th>2023-06-11 05:00:00-06:00</th>\n",
              "      <td>0.000000</td>\n",
              "      <td>0.000000</td>\n",
              "      <td>0.000000</td>\n",
              "    </tr>\n",
              "  </tbody>\n",
              "</table>\n",
              "</div>\n",
              "      <button class=\"colab-df-convert\" onclick=\"convertToInteractive('df-dca7636a-09c1-4280-a448-42e27ed10cf7')\"\n",
              "              title=\"Convert this dataframe to an interactive table.\"\n",
              "              style=\"display:none;\">\n",
              "        \n",
              "  <svg xmlns=\"http://www.w3.org/2000/svg\" height=\"24px\"viewBox=\"0 0 24 24\"\n",
              "       width=\"24px\">\n",
              "    <path d=\"M0 0h24v24H0V0z\" fill=\"none\"/>\n",
              "    <path d=\"M18.56 5.44l.94 2.06.94-2.06 2.06-.94-2.06-.94-.94-2.06-.94 2.06-2.06.94zm-11 1L8.5 8.5l.94-2.06 2.06-.94-2.06-.94L8.5 2.5l-.94 2.06-2.06.94zm10 10l.94 2.06.94-2.06 2.06-.94-2.06-.94-.94-2.06-.94 2.06-2.06.94z\"/><path d=\"M17.41 7.96l-1.37-1.37c-.4-.4-.92-.59-1.43-.59-.52 0-1.04.2-1.43.59L10.3 9.45l-7.72 7.72c-.78.78-.78 2.05 0 2.83L4 21.41c.39.39.9.59 1.41.59.51 0 1.02-.2 1.41-.59l7.78-7.78 2.81-2.81c.8-.78.8-2.07 0-2.86zM5.41 20L4 18.59l7.72-7.72 1.47 1.35L5.41 20z\"/>\n",
              "  </svg>\n",
              "      </button>\n",
              "      \n",
              "  <style>\n",
              "    .colab-df-container {\n",
              "      display:flex;\n",
              "      flex-wrap:wrap;\n",
              "      gap: 12px;\n",
              "    }\n",
              "\n",
              "    .colab-df-convert {\n",
              "      background-color: #E8F0FE;\n",
              "      border: none;\n",
              "      border-radius: 50%;\n",
              "      cursor: pointer;\n",
              "      display: none;\n",
              "      fill: #1967D2;\n",
              "      height: 32px;\n",
              "      padding: 0 0 0 0;\n",
              "      width: 32px;\n",
              "    }\n",
              "\n",
              "    .colab-df-convert:hover {\n",
              "      background-color: #E2EBFA;\n",
              "      box-shadow: 0px 1px 2px rgba(60, 64, 67, 0.3), 0px 1px 3px 1px rgba(60, 64, 67, 0.15);\n",
              "      fill: #174EA6;\n",
              "    }\n",
              "\n",
              "    [theme=dark] .colab-df-convert {\n",
              "      background-color: #3B4455;\n",
              "      fill: #D2E3FC;\n",
              "    }\n",
              "\n",
              "    [theme=dark] .colab-df-convert:hover {\n",
              "      background-color: #434B5C;\n",
              "      box-shadow: 0px 1px 3px 1px rgba(0, 0, 0, 0.15);\n",
              "      filter: drop-shadow(0px 1px 2px rgba(0, 0, 0, 0.3));\n",
              "      fill: #FFFFFF;\n",
              "    }\n",
              "  </style>\n",
              "\n",
              "      <script>\n",
              "        const buttonEl =\n",
              "          document.querySelector('#df-dca7636a-09c1-4280-a448-42e27ed10cf7 button.colab-df-convert');\n",
              "        buttonEl.style.display =\n",
              "          google.colab.kernel.accessAllowed ? 'block' : 'none';\n",
              "\n",
              "        async function convertToInteractive(key) {\n",
              "          const element = document.querySelector('#df-dca7636a-09c1-4280-a448-42e27ed10cf7');\n",
              "          const dataTable =\n",
              "            await google.colab.kernel.invokeFunction('convertToInteractive',\n",
              "                                                     [key], {});\n",
              "          if (!dataTable) return;\n",
              "\n",
              "          const docLinkHtml = 'Like what you see? Visit the ' +\n",
              "            '<a target=\"_blank\" href=https://colab.research.google.com/notebooks/data_table.ipynb>data table notebook</a>'\n",
              "            + ' to learn more about interactive tables.';\n",
              "          element.innerHTML = '';\n",
              "          dataTable['output_type'] = 'display_data';\n",
              "          await google.colab.output.renderOutput(dataTable, element);\n",
              "          const docLink = document.createElement('div');\n",
              "          docLink.innerHTML = docLinkHtml;\n",
              "          element.appendChild(docLink);\n",
              "        }\n",
              "      </script>\n",
              "    </div>\n",
              "  </div>\n",
              "  "
            ]
          },
          "metadata": {},
          "execution_count": 130
        }
      ]
    },
    {
      "cell_type": "code",
      "execution_count": null,
      "metadata": {
        "colab": {
          "base_uri": "https://localhost:8080/",
          "height": 446
        },
        "id": "cXsUspfywA6j",
        "outputId": "4b6cf8d5-e94d-4535-9f39-d91b12c8be88"
      },
      "outputs": [
        {
          "output_type": "display_data",
          "data": {
            "text/plain": [
              "<Figure size 640x480 with 1 Axes>"
            ],
            "image/png": "[encoded data removed]"
          },
          "metadata": {}
        }
      ],
      "source": [
        "fig, ax = plt.subplots()\n",
        "cs['ghi'].plot(ax=ax, label='ineichen')\n",
        "data['ghi'].plot(ax=ax, label='nam+larson')\n",
        "ax.set_ylabel('ghi')\n",
        "ax.legend();"
      ]
    },
    {
      "cell_type": "code",
      "execution_count": null,
      "metadata": {
        "colab": {
          "base_uri": "https://localhost:8080/",
          "height": 446
        },
        "id": "XJA2i1VTwA6j",
        "outputId": "2d947280-a3c3-4f66-b725-2328204e35c3"
      },
      "outputs": [
        {
          "output_type": "display_data",
          "data": {
            "text/plain": [
              "<Figure size 640x480 with 1 Axes>"
            ],
            "image/png": "[encoded data removed]"
          },
          "metadata": {}
        }
      ],
      "source": [
        "fig, ax = plt.subplots()\n",
        "cs['dni'].plot(ax=ax, label='ineichen')\n",
        "data['dni'].plot(ax=ax, label='nam+larson')\n",
        "ax.set_ylabel('dni')\n",
        "ax.legend();"
      ]
    },
    {
      "cell_type": "code",
      "execution_count": null,
      "metadata": {
        "id": "rURSTloYwA6k"
      },
      "outputs": [],
      "source": [
        "# retrieve data\n",
        "data = fm.get_processed_data(latitude, longitude, start, end)"
      ]
    },
    {
      "cell_type": "code",
      "execution_count": null,
      "metadata": {
        "colab": {
          "base_uri": "https://localhost:8080/",
          "height": 446
        },
        "id": "49Gf_c8bwA6l",
        "outputId": "433cc0c1-9d33-4e4f-a53a-76eb26e94091"
      },
      "outputs": [
        {
          "output_type": "display_data",
          "data": {
            "text/plain": [
              "<Figure size 640x480 with 1 Axes>"
            ],
            "image/png": "[encoded data removed]"
          },
          "metadata": {}
        }
      ],
      "source": [
        "data['temp_air'].plot()\n",
        "plt.ylabel('temperature (%s)' % fm.units['temp_air']);"
      ]
    },
    {
      "cell_type": "code",
      "execution_count": null,
      "metadata": {
        "id": "t16SgtqgwA6m"
      },
      "outputs": [],
      "source": [
        "cloud_vars = ['total_clouds', 'low_clouds', 'mid_clouds', 'high_clouds']"
      ]
    },
    {
      "cell_type": "code",
      "execution_count": null,
      "metadata": {
        "id": "76FB7E2BwA6n"
      },
      "outputs": [],
      "source": [
        "total_cloud_cover = data['total_clouds']"
      ]
    },
    {
      "cell_type": "code",
      "execution_count": null,
      "metadata": {
        "colab": {
          "base_uri": "https://localhost:8080/",
          "height": 488
        },
        "id": "RWZaUzTzwA7C",
        "outputId": "2c23f86d-21a0-45b4-82f9-a1f4c2b59df2"
      },
      "outputs": [
        {
          "output_type": "display_data",
          "data": {
            "text/plain": [
              "<Figure size 640x480 with 1 Axes>"
            ],
            "image/png": "[encoded data removed]"
          },
          "metadata": {}
        }
      ],
      "source": [
        "for varname in cloud_vars:\n",
        "    data[varname].plot(ls='-', linewidth=2)\n",
        "plt.ylabel('Cloud cover' + ' %')\n",
        "plt.xlabel('Forecast Time ('+str(data.index.tz)+')')\n",
        "plt.title('NAM')\n",
        "plt.legend(bbox_to_anchor=(1.18,1.0));"
      ]
    },
    {
      "cell_type": "code",
      "execution_count": null,
      "metadata": {
        "colab": {
          "base_uri": "https://localhost:8080/",
          "height": 488
        },
        "id": "stEQSSpnwA6o",
        "outputId": "7a00f5ba-0ddc-4dfd-9084-abc39c969a44"
      },
      "outputs": [
        {
          "output_type": "display_data",
          "data": {
            "text/plain": [
              "<Figure size 640x480 with 1 Axes>"
            ],
            "image/png": "[encoded data removed]"
          },
          "metadata": {}
        }
      ],
      "source": [
        "total_cloud_cover.plot(color='r', linewidth=2)\n",
        "plt.ylabel('Total cloud cover' + ' (%s)' % fm.units['total_clouds'])\n",
        "plt.xlabel('Forecast Time ('+str(data.index.tz)+')')\n",
        "plt.title('NAM');"
      ]
    },
    {
      "cell_type": "markdown",
      "metadata": {
        "id": "Xj-I_EJ5wA7i"
      },
      "source": [
        "## Quick power calculation"
      ]
    },
    {
      "cell_type": "code",
      "execution_count": null,
      "metadata": {
        "colab": {
          "base_uri": "https://localhost:8080/",
          "height": 1000
        },
        "id": "I1ZTszh6wA7j",
        "outputId": "72664aad-897f-4e77-f853-afc987094630"
      },
      "outputs": [
        {
          "output_type": "stream",
          "name": "stderr",
          "text": [
            "<ipython-input-139-b52c2b4c9b9d>:15: pvlibDeprecationWarning: The NAM class was deprecated in pvlib 0.9.1 and will be removed in a future release. For details, see https://pvlib-python.readthedocs.io/en/stable/user_guide/forecasts.html\n",
            "  fx_model = NAM()\n",
            "WARNING:siphon.ncss_dataset:Cannot convert \"[428]\" to int. Keeping type as str.\n",
            "WARNING:siphon.ncss_dataset:Cannot convert \"[614]\" to int. Keeping type as str.\n",
            "WARNING:siphon.ncss_dataset:Cannot convert \"[4]\" to int. Keeping type as str.\n",
            "WARNING:siphon.ncss_dataset:Cannot convert \"[1]\" to int. Keeping type as str.\n",
            "WARNING:siphon.ncss_dataset:Cannot convert \"[272]\" to int. Keeping type as str.\n",
            "WARNING:siphon.ncss_dataset:Cannot convert \"[272]\" to int. Keeping type as str.\n",
            "WARNING:siphon.ncss_dataset:Cannot convert \"[1]\" to int. Keeping type as str.\n",
            "WARNING:siphon.ncss_dataset:Cannot convert \"[784]\" to int. Keeping type as str.\n",
            "WARNING:siphon.ncss_dataset:Cannot convert \"[784]\" to int. Keeping type as str.\n",
            "WARNING:siphon.ncss_dataset:Cannot convert \"[784]\" to int. Keeping type as str.\n",
            "WARNING:siphon.ncss_dataset:Cannot convert \"[784]\" to int. Keeping type as str.\n",
            "WARNING:siphon.ncss_dataset:Cannot convert \"[2]\" to int. Keeping type as str.\n",
            "WARNING:siphon.ncss_dataset:Cannot convert \"[3]\" to int. Keeping type as str.\n",
            "WARNING:siphon.ncss_dataset:Cannot convert \"[5]\" to int. Keeping type as str.\n",
            "WARNING:siphon.ncss_dataset:Cannot convert \"[5]\" to int. Keeping type as str.\n",
            "WARNING:siphon.ncss_dataset:Cannot convert \"[844]\" to int. Keeping type as str.\n",
            "WARNING:siphon.ncss_dataset:Cannot convert \"[844]\" to int. Keeping type as str.\n",
            "WARNING:siphon.ncss_dataset:Cannot convert \"[2]\" to int. Keeping type as str.\n",
            "WARNING:siphon.ncss_dataset:Cannot convert \"[5]\" to int. Keeping type as str.\n",
            "WARNING:siphon.ncss_dataset:Cannot convert \"[785]\" to int. Keeping type as str.\n",
            "WARNING:siphon.ncss_dataset:Cannot convert \"[785]\" to int. Keeping type as str.\n",
            "WARNING:siphon.ncss_dataset:Cannot convert \"[1]\" to int. Keeping type as str.\n",
            "WARNING:siphon.ncss_dataset:Cannot convert \"[1]\" to int. Keeping type as str.\n",
            "WARNING:siphon.ncss_dataset:Cannot convert \"[1]\" to int. Keeping type as str.\n",
            "WARNING:siphon.ncss_dataset:Cannot convert \"[2]\" to int. Keeping type as str.\n",
            "WARNING:siphon.ncss_dataset:Cannot convert \"[1]\" to int. Keeping type as str.\n",
            "WARNING:siphon.ncss_dataset:Cannot convert \"[1]\" to int. Keeping type as str.\n",
            "WARNING:siphon.ncss_dataset:Cannot convert \"[6]\" to int. Keeping type as str.\n",
            "WARNING:siphon.ncss_dataset:Cannot convert \"[1]\" to int. Keeping type as str.\n",
            "WARNING:siphon.ncss_dataset:Cannot convert \"[784]\" to int. Keeping type as str.\n",
            "WARNING:siphon.ncss_dataset:Cannot convert \"[784]\" to int. Keeping type as str.\n",
            "WARNING:siphon.ncss_dataset:Cannot convert \"[1]\" to int. Keeping type as str.\n",
            "WARNING:siphon.ncss_dataset:Cannot convert \"[1]\" to int. Keeping type as str.\n",
            "WARNING:siphon.ncss_dataset:Cannot convert \"[4]\" to int. Keeping type as str.\n",
            "WARNING:siphon.ncss_dataset:Cannot convert \"[1]\" to int. Keeping type as str.\n",
            "WARNING:siphon.ncss_dataset:Cannot convert \"[1]\" to int. Keeping type as str.\n",
            "WARNING:siphon.ncss_dataset:Cannot convert \"[2]\" to int. Keeping type as str.\n",
            "/usr/local/lib/python3.10/dist-packages/pvlib/pvsystem.py:96: pvlibDeprecationWarning: The PVSystem.racking_model function was deprecated in pvlib 0.9 and will be removed in 0.10. Use PVSystem.arrays[i].racking_model instead.\n",
            "  return wrapped(self, *args, **kwargs)\n",
            "/usr/local/lib/python3.10/dist-packages/pvlib/pvsystem.py:96: pvlibDeprecationWarning: The PVSystem.module_type function was deprecated in pvlib 0.9 and will be removed in 0.10. Use PVSystem.arrays[i].module_type instead.\n",
            "  return wrapped(self, *args, **kwargs)\n"
          ]
        },
        {
          "output_type": "error",
          "ename": "KeyError",
          "evalue": "ignored",
          "traceback": [
            "\u001b[0;31m---------------------------------------------------------------------------\u001b[0m",
            "\u001b[0;31mKeyError\u001b[0m                                  Traceback (most recent call last)",
            "\u001b[0;32m/usr/local/lib/python3.10/dist-packages/pvlib/tools.py\u001b[0m in \u001b[0;36m_build_args\u001b[0;34m(keys, input_dict, dict_name)\u001b[0m\n\u001b[1;32m    269\u001b[0m     \u001b[0;32mtry\u001b[0m\u001b[0;34m:\u001b[0m\u001b[0;34m\u001b[0m\u001b[0;34m\u001b[0m\u001b[0m\n\u001b[0;32m--> 270\u001b[0;31m         \u001b[0margs\u001b[0m \u001b[0;34m=\u001b[0m \u001b[0;34m[\u001b[0m\u001b[0minput_dict\u001b[0m\u001b[0;34m[\u001b[0m\u001b[0mkey\u001b[0m\u001b[0;34m]\u001b[0m \u001b[0;32mfor\u001b[0m \u001b[0mkey\u001b[0m \u001b[0;32min\u001b[0m \u001b[0mkeys\u001b[0m\u001b[0;34m]\u001b[0m\u001b[0;34m\u001b[0m\u001b[0;34m\u001b[0m\u001b[0m\n\u001b[0m\u001b[1;32m    271\u001b[0m     \u001b[0;32mexcept\u001b[0m \u001b[0mKeyError\u001b[0m \u001b[0;32mas\u001b[0m \u001b[0me\u001b[0m\u001b[0;34m:\u001b[0m\u001b[0;34m\u001b[0m\u001b[0;34m\u001b[0m\u001b[0m\n",
            "\u001b[0;32m/usr/local/lib/python3.10/dist-packages/pvlib/tools.py\u001b[0m in \u001b[0;36m<listcomp>\u001b[0;34m(.0)\u001b[0m\n\u001b[1;32m    269\u001b[0m     \u001b[0;32mtry\u001b[0m\u001b[0;34m:\u001b[0m\u001b[0;34m\u001b[0m\u001b[0;34m\u001b[0m\u001b[0m\n\u001b[0;32m--> 270\u001b[0;31m         \u001b[0margs\u001b[0m \u001b[0;34m=\u001b[0m \u001b[0;34m[\u001b[0m\u001b[0minput_dict\u001b[0m\u001b[0;34m[\u001b[0m\u001b[0mkey\u001b[0m\u001b[0;34m]\u001b[0m \u001b[0;32mfor\u001b[0m \u001b[0mkey\u001b[0m \u001b[0;32min\u001b[0m \u001b[0mkeys\u001b[0m\u001b[0;34m]\u001b[0m\u001b[0;34m\u001b[0m\u001b[0;34m\u001b[0m\u001b[0m\n\u001b[0m\u001b[1;32m    271\u001b[0m     \u001b[0;32mexcept\u001b[0m \u001b[0mKeyError\u001b[0m \u001b[0;32mas\u001b[0m \u001b[0me\u001b[0m\u001b[0;34m:\u001b[0m\u001b[0;34m\u001b[0m\u001b[0;34m\u001b[0m\u001b[0m\n",
            "\u001b[0;31mKeyError\u001b[0m: 'a'",
            "\nDuring handling of the above exception, another exception occurred:\n",
            "\u001b[0;31mKeyError\u001b[0m                                  Traceback (most recent call last)",
            "\u001b[0;32m<ipython-input-139-b52c2b4c9b9d>\u001b[0m in \u001b[0;36m<cell line: 22>\u001b[0;34m()\u001b[0m\n\u001b[1;32m     20\u001b[0m \u001b[0;34m\u001b[0m\u001b[0m\n\u001b[1;32m     21\u001b[0m \u001b[0;31m# extract relevant data for model chain\u001b[0m\u001b[0;34m\u001b[0m\u001b[0;34m\u001b[0m\u001b[0m\n\u001b[0;32m---> 22\u001b[0;31m \u001b[0mmc\u001b[0m\u001b[0;34m.\u001b[0m\u001b[0mrun_model\u001b[0m\u001b[0;34m(\u001b[0m\u001b[0mweather\u001b[0m\u001b[0;34m=\u001b[0m\u001b[0mfx_data\u001b[0m\u001b[0;34m)\u001b[0m\u001b[0;34m\u001b[0m\u001b[0;34m\u001b[0m\u001b[0m\n\u001b[0m",
            "\u001b[0;32m/usr/local/lib/python3.10/dist-packages/pvlib/modelchain.py\u001b[0m in \u001b[0;36mrun_model\u001b[0;34m(self, weather)\u001b[0m\n\u001b[1;32m   1768\u001b[0m         \u001b[0mself\u001b[0m\u001b[0;34m.\u001b[0m\u001b[0meffective_irradiance_model\u001b[0m\u001b[0;34m(\u001b[0m\u001b[0;34m)\u001b[0m\u001b[0;34m\u001b[0m\u001b[0;34m\u001b[0m\u001b[0m\n\u001b[1;32m   1769\u001b[0m \u001b[0;34m\u001b[0m\u001b[0m\n\u001b[0;32m-> 1770\u001b[0;31m         \u001b[0mself\u001b[0m\u001b[0;34m.\u001b[0m\u001b[0m_run_from_effective_irrad\u001b[0m\u001b[0;34m(\u001b[0m\u001b[0mweather\u001b[0m\u001b[0;34m)\u001b[0m\u001b[0;34m\u001b[0m\u001b[0;34m\u001b[0m\u001b[0m\n\u001b[0m\u001b[1;32m   1771\u001b[0m \u001b[0;34m\u001b[0m\u001b[0m\n\u001b[1;32m   1772\u001b[0m         \u001b[0;32mreturn\u001b[0m \u001b[0mself\u001b[0m\u001b[0;34m\u001b[0m\u001b[0;34m\u001b[0m\u001b[0m\n",
            "\u001b[0;32m/usr/local/lib/python3.10/dist-packages/pvlib/modelchain.py\u001b[0m in \u001b[0;36m_run_from_effective_irrad\u001b[0;34m(self, data)\u001b[0m\n\u001b[1;32m   1855\u001b[0m         \u001b[0;31m`\u001b[0m\u001b[0;31m`\u001b[0m\u001b[0mdiode_params\u001b[0m\u001b[0;31m`\u001b[0m\u001b[0;31m`\u001b[0m \u001b[0;34m(\u001b[0m\u001b[0;32mif\u001b[0m \u001b[0mdc_model\u001b[0m \u001b[0;32mis\u001b[0m \u001b[0ma\u001b[0m \u001b[0msingle\u001b[0m \u001b[0mdiode\u001b[0m \u001b[0mmodel\u001b[0m\u001b[0;34m)\u001b[0m\u001b[0;34m.\u001b[0m\u001b[0;34m\u001b[0m\u001b[0;34m\u001b[0m\u001b[0m\n\u001b[1;32m   1856\u001b[0m         \"\"\"\n\u001b[0;32m-> 1857\u001b[0;31m         \u001b[0mself\u001b[0m\u001b[0;34m.\u001b[0m\u001b[0m_prepare_temperature\u001b[0m\u001b[0;34m(\u001b[0m\u001b[0mdata\u001b[0m\u001b[0;34m)\u001b[0m\u001b[0;34m\u001b[0m\u001b[0;34m\u001b[0m\u001b[0m\n\u001b[0m\u001b[1;32m   1858\u001b[0m         \u001b[0mself\u001b[0m\u001b[0;34m.\u001b[0m\u001b[0mdc_model\u001b[0m\u001b[0;34m(\u001b[0m\u001b[0;34m)\u001b[0m\u001b[0;34m\u001b[0m\u001b[0;34m\u001b[0m\u001b[0m\n\u001b[1;32m   1859\u001b[0m         \u001b[0mself\u001b[0m\u001b[0;34m.\u001b[0m\u001b[0mdc_ohmic_model\u001b[0m\u001b[0;34m(\u001b[0m\u001b[0;34m)\u001b[0m\u001b[0;34m\u001b[0m\u001b[0;34m\u001b[0m\u001b[0m\n",
            "\u001b[0;32m/usr/local/lib/python3.10/dist-packages/pvlib/modelchain.py\u001b[0m in \u001b[0;36m_prepare_temperature\u001b[0;34m(self, data)\u001b[0m\n\u001b[1;32m   1686\u001b[0m         \u001b[0;31m# handle simple case first, single array, data not iterable\u001b[0m\u001b[0;34m\u001b[0m\u001b[0;34m\u001b[0m\u001b[0m\n\u001b[1;32m   1687\u001b[0m         \u001b[0;32mif\u001b[0m \u001b[0;32mnot\u001b[0m \u001b[0misinstance\u001b[0m\u001b[0;34m(\u001b[0m\u001b[0mdata\u001b[0m\u001b[0;34m,\u001b[0m \u001b[0mtuple\u001b[0m\u001b[0;34m)\u001b[0m \u001b[0;32mand\u001b[0m \u001b[0mself\u001b[0m\u001b[0;34m.\u001b[0m\u001b[0msystem\u001b[0m\u001b[0;34m.\u001b[0m\u001b[0mnum_arrays\u001b[0m \u001b[0;34m==\u001b[0m \u001b[0;36m1\u001b[0m\u001b[0;34m:\u001b[0m\u001b[0;34m\u001b[0m\u001b[0;34m\u001b[0m\u001b[0m\n\u001b[0;32m-> 1688\u001b[0;31m             \u001b[0;32mreturn\u001b[0m \u001b[0mself\u001b[0m\u001b[0;34m.\u001b[0m\u001b[0m_prepare_temperature_single_array\u001b[0m\u001b[0;34m(\u001b[0m\u001b[0mdata\u001b[0m\u001b[0;34m,\u001b[0m \u001b[0mpoa\u001b[0m\u001b[0;34m)\u001b[0m\u001b[0;34m\u001b[0m\u001b[0;34m\u001b[0m\u001b[0m\n\u001b[0m\u001b[1;32m   1689\u001b[0m         \u001b[0;32mif\u001b[0m \u001b[0;32mnot\u001b[0m \u001b[0misinstance\u001b[0m\u001b[0;34m(\u001b[0m\u001b[0mdata\u001b[0m\u001b[0;34m,\u001b[0m \u001b[0mtuple\u001b[0m\u001b[0;34m)\u001b[0m\u001b[0;34m:\u001b[0m\u001b[0;34m\u001b[0m\u001b[0;34m\u001b[0m\u001b[0m\n\u001b[1;32m   1690\u001b[0m             \u001b[0;31m# broadcast data to all arrays\u001b[0m\u001b[0;34m\u001b[0m\u001b[0;34m\u001b[0m\u001b[0m\n",
            "\u001b[0;32m/usr/local/lib/python3.10/dist-packages/pvlib/modelchain.py\u001b[0m in \u001b[0;36m_prepare_temperature_single_array\u001b[0;34m(self, data, poa)\u001b[0m\n\u001b[1;32m   1655\u001b[0m         )\n\u001b[1;32m   1656\u001b[0m         \u001b[0;32mif\u001b[0m \u001b[0mself\u001b[0m\u001b[0;34m.\u001b[0m\u001b[0mresults\u001b[0m\u001b[0;34m.\u001b[0m\u001b[0mcell_temperature\u001b[0m \u001b[0;32mis\u001b[0m \u001b[0;32mNone\u001b[0m\u001b[0;34m:\u001b[0m\u001b[0;34m\u001b[0m\u001b[0;34m\u001b[0m\u001b[0m\n\u001b[0;32m-> 1657\u001b[0;31m             \u001b[0mself\u001b[0m\u001b[0;34m.\u001b[0m\u001b[0mtemperature_model\u001b[0m\u001b[0;34m(\u001b[0m\u001b[0;34m)\u001b[0m\u001b[0;34m\u001b[0m\u001b[0;34m\u001b[0m\u001b[0m\n\u001b[0m\u001b[1;32m   1658\u001b[0m         \u001b[0;32mreturn\u001b[0m \u001b[0mself\u001b[0m\u001b[0;34m\u001b[0m\u001b[0;34m\u001b[0m\u001b[0m\n\u001b[1;32m   1659\u001b[0m \u001b[0;34m\u001b[0m\u001b[0m\n",
            "\u001b[0;32m/usr/local/lib/python3.10/dist-packages/pvlib/modelchain.py\u001b[0m in \u001b[0;36msapm_temp\u001b[0;34m(self)\u001b[0m\n\u001b[1;32m   1113\u001b[0m \u001b[0;34m\u001b[0m\u001b[0m\n\u001b[1;32m   1114\u001b[0m     \u001b[0;32mdef\u001b[0m \u001b[0msapm_temp\u001b[0m\u001b[0;34m(\u001b[0m\u001b[0mself\u001b[0m\u001b[0;34m)\u001b[0m\u001b[0;34m:\u001b[0m\u001b[0;34m\u001b[0m\u001b[0;34m\u001b[0m\u001b[0m\n\u001b[0;32m-> 1115\u001b[0;31m         \u001b[0;32mreturn\u001b[0m \u001b[0mself\u001b[0m\u001b[0;34m.\u001b[0m\u001b[0m_set_celltemp\u001b[0m\u001b[0;34m(\u001b[0m\u001b[0;34m'sapm'\u001b[0m\u001b[0;34m)\u001b[0m\u001b[0;34m\u001b[0m\u001b[0;34m\u001b[0m\u001b[0m\n\u001b[0m\u001b[1;32m   1116\u001b[0m \u001b[0;34m\u001b[0m\u001b[0m\n\u001b[1;32m   1117\u001b[0m     \u001b[0;32mdef\u001b[0m \u001b[0mpvsyst_temp\u001b[0m\u001b[0;34m(\u001b[0m\u001b[0mself\u001b[0m\u001b[0;34m)\u001b[0m\u001b[0;34m:\u001b[0m\u001b[0;34m\u001b[0m\u001b[0;34m\u001b[0m\u001b[0m\n",
            "\u001b[0;32m/usr/local/lib/python3.10/dist-packages/pvlib/modelchain.py\u001b[0m in \u001b[0;36m_set_celltemp\u001b[0;34m(self, model)\u001b[0m\n\u001b[1;32m   1108\u001b[0m         \u001b[0;32mif\u001b[0m \u001b[0mmodel\u001b[0m \u001b[0;34m==\u001b[0m \u001b[0;34m'noct_sam'\u001b[0m\u001b[0;34m:\u001b[0m\u001b[0;34m\u001b[0m\u001b[0;34m\u001b[0m\u001b[0m\n\u001b[1;32m   1109\u001b[0m             \u001b[0mkwargs\u001b[0m\u001b[0;34m[\u001b[0m\u001b[0;34m'effective_irradiance'\u001b[0m\u001b[0;34m]\u001b[0m \u001b[0;34m=\u001b[0m \u001b[0mself\u001b[0m\u001b[0;34m.\u001b[0m\u001b[0mresults\u001b[0m\u001b[0;34m.\u001b[0m\u001b[0meffective_irradiance\u001b[0m\u001b[0;34m\u001b[0m\u001b[0;34m\u001b[0m\u001b[0m\n\u001b[0;32m-> 1110\u001b[0;31m         self.results.cell_temperature = self.system.get_cell_temperature(\n\u001b[0m\u001b[1;32m   1111\u001b[0m             poa, temp_air, wind_speed, model=model, **kwargs)\n\u001b[1;32m   1112\u001b[0m         \u001b[0;32mreturn\u001b[0m \u001b[0mself\u001b[0m\u001b[0;34m\u001b[0m\u001b[0;34m\u001b[0m\u001b[0m\n",
            "\u001b[0;32m/usr/local/lib/python3.10/dist-packages/pvlib/pvsystem.py\u001b[0m in \u001b[0;36mf\u001b[0;34m(*args, **kwargs)\u001b[0m\n\u001b[1;32m     61\u001b[0m     \u001b[0;32mdef\u001b[0m \u001b[0mf\u001b[0m\u001b[0;34m(\u001b[0m\u001b[0;34m*\u001b[0m\u001b[0margs\u001b[0m\u001b[0;34m,\u001b[0m \u001b[0;34m**\u001b[0m\u001b[0mkwargs\u001b[0m\u001b[0;34m)\u001b[0m\u001b[0;34m:\u001b[0m\u001b[0;34m\u001b[0m\u001b[0;34m\u001b[0m\u001b[0m\n\u001b[1;32m     62\u001b[0m         \u001b[0munwrap\u001b[0m \u001b[0;34m=\u001b[0m \u001b[0mkwargs\u001b[0m\u001b[0;34m.\u001b[0m\u001b[0mpop\u001b[0m\u001b[0;34m(\u001b[0m\u001b[0;34m'unwrap'\u001b[0m\u001b[0;34m,\u001b[0m \u001b[0;32mTrue\u001b[0m\u001b[0;34m)\u001b[0m\u001b[0;34m\u001b[0m\u001b[0;34m\u001b[0m\u001b[0m\n\u001b[0;32m---> 63\u001b[0;31m         \u001b[0mx\u001b[0m \u001b[0;34m=\u001b[0m \u001b[0mfunc\u001b[0m\u001b[0;34m(\u001b[0m\u001b[0;34m*\u001b[0m\u001b[0margs\u001b[0m\u001b[0;34m,\u001b[0m \u001b[0;34m**\u001b[0m\u001b[0mkwargs\u001b[0m\u001b[0;34m)\u001b[0m\u001b[0;34m\u001b[0m\u001b[0;34m\u001b[0m\u001b[0m\n\u001b[0m\u001b[1;32m     64\u001b[0m         \u001b[0;32mif\u001b[0m \u001b[0munwrap\u001b[0m \u001b[0;32mand\u001b[0m \u001b[0mlen\u001b[0m\u001b[0;34m(\u001b[0m\u001b[0mx\u001b[0m\u001b[0;34m)\u001b[0m \u001b[0;34m==\u001b[0m \u001b[0;36m1\u001b[0m\u001b[0;34m:\u001b[0m\u001b[0;34m\u001b[0m\u001b[0;34m\u001b[0m\u001b[0m\n\u001b[1;32m     65\u001b[0m             \u001b[0;32mreturn\u001b[0m \u001b[0mx\u001b[0m\u001b[0;34m[\u001b[0m\u001b[0;36m0\u001b[0m\u001b[0;34m]\u001b[0m\u001b[0;34m\u001b[0m\u001b[0;34m\u001b[0m\u001b[0m\n",
            "\u001b[0;32m/usr/local/lib/python3.10/dist-packages/pvlib/pvsystem.py\u001b[0m in \u001b[0;36mget_cell_temperature\u001b[0;34m(self, poa_global, temp_air, wind_speed, model, effective_irradiance)\u001b[0m\n\u001b[1;32m    471\u001b[0m                                                         system_wide=True)\n\u001b[1;32m    472\u001b[0m \u001b[0;34m\u001b[0m\u001b[0m\n\u001b[0;32m--> 473\u001b[0;31m         return tuple(\n\u001b[0m\u001b[1;32m    474\u001b[0m             array.get_cell_temperature(poa_global, temp_air, wind_speed,\n\u001b[1;32m    475\u001b[0m                                        model, effective_irradiance)\n",
            "\u001b[0;32m/usr/local/lib/python3.10/dist-packages/pvlib/pvsystem.py\u001b[0m in \u001b[0;36m<genexpr>\u001b[0;34m(.0)\u001b[0m\n\u001b[1;32m    472\u001b[0m \u001b[0;34m\u001b[0m\u001b[0m\n\u001b[1;32m    473\u001b[0m         return tuple(\n\u001b[0;32m--> 474\u001b[0;31m             array.get_cell_temperature(poa_global, temp_air, wind_speed,\n\u001b[0m\u001b[1;32m    475\u001b[0m                                        model, effective_irradiance)\n\u001b[1;32m    476\u001b[0m             \u001b[0;32mfor\u001b[0m \u001b[0marray\u001b[0m\u001b[0;34m,\u001b[0m \u001b[0mpoa_global\u001b[0m\u001b[0;34m,\u001b[0m \u001b[0mtemp_air\u001b[0m\u001b[0;34m,\u001b[0m \u001b[0mwind_speed\u001b[0m\u001b[0;34m,\u001b[0m \u001b[0meffective_irradiance\u001b[0m\u001b[0;34m\u001b[0m\u001b[0;34m\u001b[0m\u001b[0m\n",
            "\u001b[0;32m/usr/local/lib/python3.10/dist-packages/pvlib/pvsystem.py\u001b[0m in \u001b[0;36mget_cell_temperature\u001b[0;34m(self, poa_global, temp_air, wind_speed, model, effective_irradiance)\u001b[0m\n\u001b[1;32m   1572\u001b[0m         \u001b[0;32mif\u001b[0m \u001b[0mmodel\u001b[0m \u001b[0;34m==\u001b[0m \u001b[0;34m'sapm'\u001b[0m\u001b[0;34m:\u001b[0m\u001b[0;34m\u001b[0m\u001b[0;34m\u001b[0m\u001b[0m\n\u001b[1;32m   1573\u001b[0m             \u001b[0mfunc\u001b[0m \u001b[0;34m=\u001b[0m \u001b[0mtemperature\u001b[0m\u001b[0;34m.\u001b[0m\u001b[0msapm_cell\u001b[0m\u001b[0;34m\u001b[0m\u001b[0;34m\u001b[0m\u001b[0m\n\u001b[0;32m-> 1574\u001b[0;31m             \u001b[0mrequired\u001b[0m \u001b[0;34m=\u001b[0m \u001b[0m_build_tcell_args\u001b[0m\u001b[0;34m(\u001b[0m\u001b[0;34m[\u001b[0m\u001b[0;34m'a'\u001b[0m\u001b[0;34m,\u001b[0m \u001b[0;34m'b'\u001b[0m\u001b[0;34m,\u001b[0m \u001b[0;34m'deltaT'\u001b[0m\u001b[0;34m]\u001b[0m\u001b[0;34m)\u001b[0m\u001b[0;34m\u001b[0m\u001b[0;34m\u001b[0m\u001b[0m\n\u001b[0m\u001b[1;32m   1575\u001b[0m             optional = _build_kwargs(['irrad_ref'],\n\u001b[1;32m   1576\u001b[0m                                      self.temperature_model_parameters)\n",
            "\u001b[0;32m/usr/local/lib/python3.10/dist-packages/pvlib/tools.py\u001b[0m in \u001b[0;36m_build_args\u001b[0;34m(keys, input_dict, dict_name)\u001b[0m\n\u001b[1;32m    273\u001b[0m         msg = (f\"Missing required parameter '{missing_key}'. Found \"\n\u001b[1;32m    274\u001b[0m                f\"{input_dict} in {dict_name}.\")\n\u001b[0;32m--> 275\u001b[0;31m         \u001b[0;32mraise\u001b[0m \u001b[0mKeyError\u001b[0m\u001b[0;34m(\u001b[0m\u001b[0mmsg\u001b[0m\u001b[0;34m)\u001b[0m\u001b[0;34m\u001b[0m\u001b[0;34m\u001b[0m\u001b[0m\n\u001b[0m\u001b[1;32m    276\u001b[0m     \u001b[0;32mreturn\u001b[0m \u001b[0margs\u001b[0m\u001b[0;34m\u001b[0m\u001b[0;34m\u001b[0m\u001b[0m\n\u001b[1;32m    277\u001b[0m \u001b[0;34m\u001b[0m\u001b[0m\n",
            "\u001b[0;31mKeyError\u001b[0m: \"Missing required parameter 'a'. Found {} in temperature_model_parameters.\""
          ]
        }
      ],
      "source": [
        "from pvlib.pvsystem import PVSystem, retrieve_sam\n",
        "from pvlib.modelchain import ModelChain\n",
        "\n",
        "sandia_modules = retrieve_sam('SandiaMod')\n",
        "sapm_inverters = retrieve_sam('cecinverter')\n",
        "module = sandia_modules['Canadian_Solar_CS5P_220M___2009_']\n",
        "inverter = sapm_inverters['ABB__MICRO_0_25_I_OUTD_US_208__208V_']\n",
        "\n",
        "system = PVSystem(module_parameters=module,\n",
        "                  inverter_parameters=inverter,\n",
        "                  surface_tilt=latitude,\n",
        "                  surface_azimuth=180)\n",
        "\n",
        "# fx is a common abbreviation for forecast\n",
        "fx_model = NAM()\n",
        "fx_data = fx_model.get_processed_data(latitude, longitude, start, end)\n",
        "\n",
        "# use a ModelChain object to calculate modeling intermediates\n",
        "mc = ModelChain(system, fx_model.location)\n",
        "\n",
        "# extract relevant data for model chain\n",
        "mc.run_model(weather=fx_data)"
      ]
    },
    {
      "cell_type": "code",
      "execution_count": null,
      "metadata": {
        "id": "s8r6Rzc3wA7j"
      },
      "outputs": [],
      "source": [
        "mc.total_irrad.plot();"
      ]
    },
    {
      "cell_type": "code",
      "execution_count": null,
      "metadata": {
        "id": "bHrWTJ4ywA7k"
      },
      "outputs": [],
      "source": [
        "mc.cell_temperature.plot();"
      ]
    },
    {
      "cell_type": "code",
      "execution_count": null,
      "metadata": {
        "id": "VOpRHMR-wA7k"
      },
      "outputs": [],
      "source": [
        "mc.ac.plot();"
      ]
    },
    {
      "cell_type": "code",
      "execution_count": null,
      "metadata": {
        "id": "moaBT2rKwA7k"
      },
      "outputs": [],
      "source": []
    }
  ],
  "metadata": {
    "kernelspec": {
      "display_name": "Python 3",
      "language": "python",
      "name": "python3"
    },
    "language_info": {
      "codemirror_mode": {
        "name": "ipython",
        "version": 3
      },
      "file_extension": ".py",
      "mimetype": "text/x-python",
      "name": "python",
      "nbconvert_exporter": "python",
      "pygments_lexer": "ipython3",
      "version": "3.7.7"
    },
    "colab": {
      "provenance": []
    }
  },
  "nbformat": 4,
  "nbformat_minor": 0
}