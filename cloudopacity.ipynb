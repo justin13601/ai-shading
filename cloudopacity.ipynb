{
 "cells": [
  {
   "cell_type": "code",
   "execution_count": null,
   "outputs": [],
   "source": [
    "# OWM_API_KEY = '490736b527d77771439cac2ef2e255e9'\n",
    "#\n",
    "# from pyowm import OWM\n",
    "# from pyowm.utils import config\n",
    "# from pyowm.utils import timestamps\n",
    "#\n",
    "# owm = OWM(OWM_API_KEY)\n",
    "# mgr = owm.weather_manager()\n",
    "# one_call = mgr.one_call(lat=52.5244, lon=13.4105)\n",
    "#\n",
    "# # Search for current weather in London (Great Britain) and get details\n",
    "# observation = mgr.weather_at_place('London,GB')\n",
    "# w = observation.weather\n",
    "#\n",
    "# w.detailed_status  # 'clouds'\n",
    "# w.wind()  # {'speed': 4.6, 'deg': 330}\n",
    "# w.humidity  # 87\n",
    "# w.temperature('celsius')  # {'temp_max': 10.5, 'temp': 9.7, 'temp_min': 9.0}\n",
    "# w.rain  # {}\n",
    "# w.heat_index  # None\n",
    "# w.clouds  # 75\n",
    "#\n",
    "# # Will it be clear tomorrow at this time in Milan (Italy) ?\n",
    "# forecast = mgr.forecast_at_place('Milan,IT', 'daily')\n",
    "# answer = forecast.will_be_clear_at(timestamps.tomorrow())\n"
   ],
   "metadata": {
    "collapsed": false,
    "pycharm": {
     "name": "#%%\n",
     "is_executing": true
    }
   }
  },
  {
   "cell_type": "code",
   "execution_count": null,
   "outputs": [],
   "source": [
    "import requests\n",
    "import plotly.graph_objects as go\n",
    "\n",
    "\n",
    "def get_cloud_opacity(lat, lon, api_key):\n",
    "    url = f\"https://api.openweathermap.org/data/2.5/forecast?lat={lat}&lon={lon}&appid={api_key}\"\n",
    "\n",
    "    try:\n",
    "        response = requests.get(url)\n",
    "        response.raise_for_status()  # Check for any errors\n",
    "\n",
    "        data = response.json()\n",
    "        cloud_opacity = [data['clouds']['all'] for data in data['list']]\n",
    "\n",
    "        return cloud_opacity\n",
    "    except requests.exceptions.RequestException as e:\n",
    "        print(f\"Error: {e}\")\n",
    "        return None\n",
    "\n",
    "\n",
    "# Provide your API key here\n",
    "API_KEY = \"cfc7fa8b349be0879b5c74a8878cb7b5\"\n",
    "\n",
    "latitude = 40.730610\n",
    "longitude = -73.935242\n",
    "\n",
    "# Get the cloud opacity forecast for the next 5 days in 3 hour intervals\n",
    "cloud_opacity = get_cloud_opacity(latitude, longitude, API_KEY)\n",
    "\n",
    "if cloud_opacity is not None:\n",
    "    print(f\"Cloud opacity forecast: {cloud_opacity}.\")\n",
    "    x_values = list(range(len(cloud_opacity)))\n",
    "    fig = go.Figure(data=go.Scatter(x=x_values, y=cloud_opacity, mode='markers'))\n"
   ],
   "metadata": {
    "collapsed": false,
    "pycharm": {
     "name": "#%%\n"
    }
   }
  }
 ],
 "metadata": {
  "kernelspec": {
   "display_name": "Python 3",
   "language": "python",
   "name": "python3"
  },
  "language_info": {
   "codemirror_mode": {
    "name": "ipython",
    "version": 2
   },
   "file_extension": ".py",
   "mimetype": "text/x-python",
   "name": "python",
   "nbconvert_exporter": "python",
   "pygments_lexer": "ipython2",
   "version": "2.7.6"
  }
 },
 "nbformat": 4,
 "nbformat_minor": 0
}